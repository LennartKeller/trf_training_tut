{
 "cells": [
  {
   "cell_type": "code",
   "execution_count": 1,
   "id": "3c9cadf9",
   "metadata": {
    "tags": [
     "remove-cell"
    ]
   },
   "outputs": [],
   "source": [
    "from datasets import set_caching_enabled\n",
    "set_caching_enabled(False)\n",
    "\n",
    "import pprint\n",
    "pp = pprint.PrettyPrinter(depth=6, compact=True)\n",
    "print = pp.pprint"
   ]
  },
  {
   "cell_type": "markdown",
   "id": "a9c67a7a",
   "metadata": {},
   "source": [
    "# Prerequisites\n",
    "\n",
    "The following experiments share the same general logic, but the concrete implementation will differ in minor details since each framework has another structural approach.\n",
    "So before we start, we will take a brief look at the general logic for the data loading parts of the experiment and the computation of the loss function.\n",
    "\n",
    "## Dataset-preparation\n",
    "\n",
    "To load the stories, shuffle the sentences, and further prepare, we use Huggingface's Datasets library, which provides various useful functions for manipulating text data.\n",
    "Because Huggingface Datasets are fully compatible with PyTorch's class for data-loading, they can also be used by all non-Huggingface libraries without further adjustments.\n",
    "\n",
    "The preparation itself is simple:"
   ]
  },
  {
   "cell_type": "code",
   "execution_count": 2,
   "id": "04ee61a0",
   "metadata": {},
   "outputs": [],
   "source": [
    "from datasets import Dataset, DatasetDict"
   ]
  },
  {
   "cell_type": "markdown",
   "id": "4ad87386",
   "metadata": {},
   "source": [
    "At first, we load the dataset in its original format."
   ]
  },
  {
   "cell_type": "code",
   "execution_count": 3,
   "id": "6ef080a2",
   "metadata": {},
   "outputs": [
    {
     "name": "stderr",
     "output_type": "stream",
     "text": [
      "Using custom data configuration default-c9b127b229452d3c\n"
     ]
    },
    {
     "name": "stderr",
     "output_type": "stream",
     "text": [
      "Reusing dataset csv (/Users/lennartkeller/.cache/huggingface/datasets/csv/default-c9b127b229452d3c/0.0.0)\n"
     ]
    },
    {
     "data": {
      "text/plain": [
       "Dataset({\n",
       "    features: ['storyid', 'storytitle', 'sentence1', 'sentence2', 'sentence3', 'sentence4', 'sentence5'],\n",
       "    num_rows: 52665\n",
       "})"
      ]
     },
     "execution_count": 3,
     "metadata": {},
     "output_type": "execute_result"
    }
   ],
   "source": [
    "dataset = Dataset.from_csv('../scripts/data/ROCStories_winter2017 - ROCStories_winter2017.csv')\n",
    "dataset"
   ]
  },
  {
   "cell_type": "markdown",
   "id": "6aacf5c0",
   "metadata": {},
   "source": [
    "We got 52.665 stories. Each one has a length of five sentences. Additionally, each text has a short title, but we discard them."
   ]
  },
  {
   "cell_type": "code",
   "execution_count": 4,
   "id": "565e4bdf",
   "metadata": {},
   "outputs": [
    {
     "data": {
      "text/plain": [
       "52665"
      ]
     },
     "execution_count": 4,
     "metadata": {},
     "output_type": "execute_result"
    }
   ],
   "source": [
    "len(dataset)"
   ]
  },
  {
   "cell_type": "code",
   "execution_count": 5,
   "id": "da2d1eb1",
   "metadata": {},
   "outputs": [
    {
     "name": "stdout",
     "output_type": "stream",
     "text": [
      "{'sentence1': 'David noticed he had put on a lot of weight recently.',\n",
      " 'sentence2': 'He examined his habits to try and figure out the reason.',\n",
      " 'sentence3': \"He realized he'd been eating too much fast food lately.\",\n",
      " 'sentence4': 'He stopped going to burger places and started a vegetarian '\n",
      "              'diet.',\n",
      " 'sentence5': 'After a few weeks, he started to feel much better.',\n",
      " 'storyid': '8bbe6d11-1e2e-413c-bf81-eaea05f4f1bd',\n",
      " 'storytitle': 'David Drops the Weight'}\n"
     ]
    }
   ],
   "source": [
    "print(dataset[0])"
   ]
  },
  {
   "cell_type": "markdown",
   "id": "7b45de3f",
   "metadata": {},
   "source": [
    "Next, we create the training data by shuffling the sentences and creating labels indicating the original order. Also, we add special tokens to each sentence.\n",
    "\n",
    "We implement the shuffling process using the `.map`-method of the `Dataset`-class.\n",
    "Following the library's out-of-place policy, the `.map`-method returns a new dataset containing the changes instead of changing the dataset it was called on.\n",
    "\n",
    "The `.map`-method has two modes: batch-mode or single entry mode. Either way, it receives a dictionary as input where each key represents a column of the dataset.\n",
    "In single entry mode, the values of the input dictionary hold one entry in the dataset.\n",
    "In batch mode, the values are lists containing more than one entry.\n",
    "The following function only works in both modes since it converts both input formats to the same intermediate form, but in general, the batch mode should be preferred to save time.\n",
    "The output of the function has to be a dictionary in the same format as the input."
   ]
  },
  {
   "cell_type": "code",
   "execution_count": 6,
   "id": "cc4a46eb",
   "metadata": {},
   "outputs": [],
   "source": [
    "from random import shuffle\n",
    "from random import seed as set_seed\n",
    "\n",
    "def make_shuffle_func(sep_token):\n",
    "    def shuffle_stories(entries, seed=42):\n",
    "        set_seed(seed)\n",
    "        entries_as_dicts = [\n",
    "            dict(zip(entries, values))\n",
    "            for values in zip(*entries.values())\n",
    "        ]\n",
    "        converted_entries = []\n",
    "        for entry in entries_as_dicts:\n",
    "            sents = [\n",
    "                entry[key]\n",
    "                for key in sorted(\n",
    "                    [key for key in entry.keys() if key.startswith('sentence')\n",
    "                    ], key=lambda x: int(x[-1])\n",
    "                )\n",
    "            ]\n",
    "            sent_idx = list(range(len(sents)))\n",
    "            sents_with_idx = list(zip(sents, sent_idx))\n",
    "            shuffle(sents_with_idx)\n",
    "            text = f'{sep_token} ' + f' {sep_token} '.join(\n",
    "                [s[0]for s in sents_with_idx]\n",
    "            ) \n",
    "            so_targets = [s[1] for s in sents_with_idx]\n",
    "            shuffled_entry = {'text': text, 'so_targets': so_targets}\n",
    "            converted_entries.append(shuffled_entry)\n",
    "        new_entry = {\n",
    "            key: [entry[key] for entry in converted_entries]\n",
    "            for key in converted_entries[0]\n",
    "        }\n",
    "        return new_entry\n",
    "    return shuffle_stories"
   ]
  },
  {
   "cell_type": "markdown",
   "id": "d32e8797",
   "metadata": {},
   "source": [
    "`[CLS]` is one of the special tokens of models directly descending from BERT. During the pretraining stage, it learns a representation of the whole input sequence and thus only occurs once in each input.\n",
    "Since we do not need a representation of the input as a whole, we use it as the special sentence token."
   ]
  },
  {
   "cell_type": "code",
   "execution_count": 7,
   "id": "1aea9f83",
   "metadata": {},
   "outputs": [],
   "source": [
    "map_func = make_shuffle_func('[CLS]')"
   ]
  },
  {
   "cell_type": "code",
   "execution_count": 8,
   "id": "f02064c8",
   "metadata": {},
   "outputs": [
    {
     "data": {
      "application/vnd.jupyter.widget-view+json": {
       "model_id": "1f7616f06a764a78b38cf31520acebd8",
       "version_major": 2,
       "version_minor": 0
      },
      "text/plain": [
       "  0%|          | 0/53 [00:00<?, ?ba/s]"
      ]
     },
     "metadata": {},
     "output_type": "display_data"
    }
   ],
   "source": [
    "dataset = dataset.map(map_func, batched=True)"
   ]
  },
  {
   "cell_type": "markdown",
   "id": "7fa8128d",
   "metadata": {},
   "source": [
    "After applying the shuffle function, the dataset has two additional columns. The `text` column contains the shuffled and concatenated sentences, and the `so_targets` column contains the indices of the sentences in the original order. For example, in the first text in the dataset, the first sentence in the shuffled text is 4th place in the original order."
   ]
  },
  {
   "cell_type": "code",
   "execution_count": 9,
   "id": "3e0d1c7f",
   "metadata": {},
   "outputs": [
    {
     "name": "stdout",
     "output_type": "stream",
     "text": [
      "{'sentence1': 'David noticed he had put on a lot of weight recently.',\n",
      " 'sentence2': 'He examined his habits to try and figure out the reason.',\n",
      " 'sentence3': \"He realized he'd been eating too much fast food lately.\",\n",
      " 'sentence4': 'He stopped going to burger places and started a vegetarian '\n",
      "              'diet.',\n",
      " 'sentence5': 'After a few weeks, he started to feel much better.',\n",
      " 'so_targets': [3, 1, 2, 4, 0],\n",
      " 'storyid': '8bbe6d11-1e2e-413c-bf81-eaea05f4f1bd',\n",
      " 'storytitle': 'David Drops the Weight',\n",
      " 'text': '[CLS] He stopped going to burger places and started a vegetarian '\n",
      "         'diet. [CLS] He examined his habits to try and figure out the reason. '\n",
      "         \"[CLS] He realized he'd been eating too much fast food lately. [CLS] \"\n",
      "         'After a few weeks, he started to feel much better. [CLS] David '\n",
      "         'noticed he had put on a lot of weight recently.'}\n"
     ]
    }
   ],
   "source": [
    "print(dataset[0])"
   ]
  },
  {
   "cell_type": "markdown",
   "id": "2dbbc7df",
   "metadata": {},
   "source": [
    "Lastly, we want to split our dataset into three subsets.\n",
    "The train-set is used for training.\n",
    "The validation set can be used to validate the performance during training or hyperparameter optimization.\n",
    "The test set will be used for the final evaluation of the final model."
   ]
  },
  {
   "cell_type": "code",
   "execution_count": 10,
   "id": "17c321f7",
   "metadata": {},
   "outputs": [
    {
     "data": {
      "text/plain": [
       "DatasetDict({\n",
       "    train: Dataset({\n",
       "        features: ['sentence1', 'sentence2', 'sentence3', 'sentence4', 'sentence5', 'so_targets', 'storyid', 'storytitle', 'text'],\n",
       "        num_rows: 42132\n",
       "    })\n",
       "    test: Dataset({\n",
       "        features: ['sentence1', 'sentence2', 'sentence3', 'sentence4', 'sentence5', 'so_targets', 'storyid', 'storytitle', 'text'],\n",
       "        num_rows: 7373\n",
       "    })\n",
       "    val: Dataset({\n",
       "        features: ['sentence1', 'sentence2', 'sentence3', 'sentence4', 'sentence5', 'so_targets', 'storyid', 'storytitle', 'text'],\n",
       "        num_rows: 3160\n",
       "    })\n",
       "})"
      ]
     },
     "execution_count": 10,
     "metadata": {},
     "output_type": "execute_result"
    }
   ],
   "source": [
    "train_test = dataset.train_test_split(test_size=0.2, seed=42)\n",
    "\n",
    "test_validation = train_test['test'].train_test_split(test_size=0.3, seed=42)\n",
    "\n",
    "dataset = DatasetDict({\n",
    "    'train': train_test['train'],\n",
    "    'test': test_validation['train'],\n",
    "    'val': test_validation['test']})\n",
    "dataset"
   ]
  },
  {
   "cell_type": "markdown",
   "id": "743c4bfe",
   "metadata": {},
   "source": [
    "Finally, we save the dataset."
   ]
  },
  {
   "cell_type": "code",
   "execution_count": 11,
   "id": "3cba1301",
   "metadata": {},
   "outputs": [],
   "source": [
    "dataset.save_to_disk('rocstories')"
   ]
  },
  {
   "cell_type": "code",
   "execution_count": 12,
   "id": "34d17bee",
   "metadata": {
    "tags": [
     "remove-cell"
    ]
   },
   "outputs": [],
   "source": [
    "! rm -r rocstories"
   ]
  },
  {
   "cell_type": "markdown",
   "id": "1b3fb7a7",
   "metadata": {},
   "source": [
    "## Data loading\n",
    "\n",
    "```{figure} ./figures/DataFlow.png\n",
    "---\n",
    "name: fig-dataflow\n",
    "---\n",
    "High-level visualization of data-flow from the original dataset to the model.\n",
    "```\n",
    "\n",
    "From a high-level view, a Huggingface `Dataset` can be seen as a table with columns that correspond to attributes (called features) and rows representing one dataset entry.\n",
    "From a more concrete technical perspective, the `Dataset`-instance provides an iterable that yields a dictionary for each entry in the dataset. Each dictionary contains attribute-value pairs."
   ]
  },
  {
   "cell_type": "code",
   "execution_count": 13,
   "id": "4bbaffcc",
   "metadata": {},
   "outputs": [
    {
     "name": "stdout",
     "output_type": "stream",
     "text": [
      "{'sentence1': Value(dtype='string', id=None),\n",
      " 'sentence2': Value(dtype='string', id=None),\n",
      " 'sentence3': Value(dtype='string', id=None),\n",
      " 'sentence4': Value(dtype='string', id=None),\n",
      " 'sentence5': Value(dtype='string', id=None),\n",
      " 'so_targets': Sequence(feature=Value(dtype='int64', id=None), length=-1, id=None),\n",
      " 'storyid': Value(dtype='string', id=None),\n",
      " 'storytitle': Value(dtype='string', id=None),\n",
      " 'text': Value(dtype='string', id=None)}\n"
     ]
    }
   ],
   "source": [
    "from datasets import load_from_disk\n",
    "\n",
    "dataset = load_from_disk('../scripts/data/rocstories')\n",
    "print(dataset['train'].features)"
   ]
  },
  {
   "cell_type": "code",
   "execution_count": 14,
   "id": "166f78d8",
   "metadata": {},
   "outputs": [
    {
     "name": "stdout",
     "output_type": "stream",
     "text": [
      "{'sentence1': 'Bob took his daughter canoeing on the river.',\n",
      " 'sentence2': 'The entire trip was about three miles.',\n",
      " 'sentence3': 'The current was very fast through the shoals.',\n",
      " 'sentence4': 'They got hung up on a rock near the end.',\n",
      " 'sentence5': 'They had a good time and pledged to go again.',\n",
      " 'so_targets': [3, 4, 2, 0, 1],\n",
      " 'storyid': '2696704e-60a8-44de-99ea-bed2dada2a68',\n",
      " 'storytitle': 'Canoeing',\n",
      " 'text': '[CLS] They got hung up on a rock near the end. [CLS] They had a good '\n",
      "         'time and pledged to go again. [CLS] The current was very fast '\n",
      "         'through the shoals. [CLS] Bob took his daughter canoeing on the '\n",
      "         'river. [CLS] The entire trip was about three miles.'}\n"
     ]
    }
   ],
   "source": [
    "print(dataset['train'][0])"
   ]
  },
  {
   "cell_type": "markdown",
   "id": "a81405ff",
   "metadata": {},
   "source": [
    "We can't feed the model with raw texts, so we have to tokenize them beforehand.\n",
    "\n",
    "As stated before, each model comes with a custom tokenizer, so we have to load it, just like the model itself."
   ]
  },
  {
   "cell_type": "code",
   "execution_count": 15,
   "id": "ab941aaf",
   "metadata": {},
   "outputs": [
    {
     "name": "stdout",
     "output_type": "stream",
     "text": [
      "{'attention_mask': [1, 1, 1, 1, 1, 1, 1, 1],\n",
      " 'input_ids': [101, 4479, 1355, 1205, 1103, 1812, 119, 102],\n",
      " 'token_type_ids': [0, 0, 0, 0, 0, 0, 0, 0]}\n"
     ]
    }
   ],
   "source": [
    "from transformers import AutoTokenizer\n",
    "\n",
    "tokenizer = AutoTokenizer.from_pretrained('bert-base-cased', return_dict=True)\n",
    "tokenized_text = tokenizer(\"Jimmy went down the road.\")\n",
    "print(tokenized_text)"
   ]
  },
  {
   "cell_type": "markdown",
   "id": "3ef52c70",
   "metadata": {},
   "source": [
    "The tokenizer takes a text or a collection of texts and converts it to a tokenized sequence. Also, it creates additional inputs for the model, such as the attention mask.\n",
    "\n",
    "To tokenize the whole dataset, we can once again use the map function."
   ]
  },
  {
   "cell_type": "code",
   "execution_count": 16,
   "id": "f8002f1e",
   "metadata": {},
   "outputs": [
    {
     "data": {
      "application/vnd.jupyter.widget-view+json": {
       "model_id": "ed6349f903974b52a4caa10d2928627d",
       "version_major": 2,
       "version_minor": 0
      },
      "text/plain": [
       "  0%|          | 0/43 [00:00<?, ?ba/s]"
      ]
     },
     "metadata": {},
     "output_type": "display_data"
    },
    {
     "data": {
      "application/vnd.jupyter.widget-view+json": {
       "model_id": "4c9aa76b3a9546658d66712bd77c5db2",
       "version_major": 2,
       "version_minor": 0
      },
      "text/plain": [
       "  0%|          | 0/8 [00:00<?, ?ba/s]"
      ]
     },
     "metadata": {},
     "output_type": "display_data"
    },
    {
     "data": {
      "application/vnd.jupyter.widget-view+json": {
       "model_id": "01e096a7e6e74241a327dd0d04e1c958",
       "version_major": 2,
       "version_minor": 0
      },
      "text/plain": [
       "  0%|          | 0/4 [00:00<?, ?ba/s]"
      ]
     },
     "metadata": {},
     "output_type": "display_data"
    },
    {
     "name": "stdout",
     "output_type": "stream",
     "text": [
      "dict_keys(['attention_mask', 'input_ids', 'sentence1', 'sentence2', 'sentence3', 'sentence4', 'sentence5', 'so_targets', 'storyid', 'storytitle', 'text', 'token_type_ids'])\n"
     ]
    }
   ],
   "source": [
    "def make_tokenization_func(tokenizer, text_column, *args, **kwargs):\n",
    "    def tokenization(entry):\n",
    "        return tokenizer(entry[text_column], *args, **kwargs)\n",
    "    return tokenization\n",
    "\n",
    "tokenization = make_tokenization_func(\n",
    "    tokenizer=tokenizer,\n",
    "    text_column=\"text\",\n",
    "    padding=\"max_length\",\n",
    "    truncation=True,\n",
    "    add_special_tokens=False,\n",
    "    return_tensors='np'\n",
    ")\n",
    "\n",
    "dataset = dataset.map(tokenization, batched=True)\n",
    "print(dataset['train'][0].keys())"
   ]
  },
  {
   "cell_type": "markdown",
   "id": "71288025",
   "metadata": {},
   "source": [
    "To feed the data to the neural network, we have to split it up into batches of a fixed size.\n",
    "To do so, PyTorch provides a general class, called `torch.utils.data.DataLoader`, that takes in iterable and returns batches just in time while training.\n",
    "\n",
    "The `DataLoader` class is agnostic towards the data it receives. To create batches that are compatible with the Huggingface model, we have to pass it a function that takes in multiple entries from our dataset and converts them into the correct format.\n",
    "\n",
    "This function is called `collate_fn` and can be specified while initiating the `DataLoader` object.\n",
    "Using a simple identity function, we see that the `collate_fn` receives a list with $B$ entries where $B$ is the batch size."
   ]
  },
  {
   "cell_type": "code",
   "execution_count": 17,
   "id": "648689e3",
   "metadata": {},
   "outputs": [
    {
     "name": "stdout",
     "output_type": "stream",
     "text": [
      "2\n",
      "<class 'list'>\n",
      "dict_keys(['attention_mask', 'input_ids', 'sentence1', 'sentence2', 'sentence3', 'sentence4', 'sentence5', 'so_targets', 'storyid', 'storytitle', 'text', 'token_type_ids'])\n"
     ]
    }
   ],
   "source": [
    "from torch.utils.data import DataLoader\n",
    "\n",
    "def identity(batch):\n",
    "    return batch\n",
    "\n",
    "data_loader = DataLoader(dataset['train'], batch_size=2, collate_fn=identity)\n",
    "batch = next(iter(data_loader))\n",
    "print(len(batch))\n",
    "print(type(batch))\n",
    "print(batch[0].keys())"
   ]
  },
  {
   "cell_type": "markdown",
   "id": "b0d01370",
   "metadata": {},
   "source": [
    "Huggingface provides a collate function that can convert tokenized data into batches in a suitable format.\n",
    "The Huggingface collation function only works with numeric data such as scalars or arrays. So we have to drop all texts before we pass the dataset into the `Dataloader` object."
   ]
  },
  {
   "cell_type": "code",
   "execution_count": 18,
   "id": "125298f5",
   "metadata": {},
   "outputs": [
    {
     "name": "stdout",
     "output_type": "stream",
     "text": [
      "{'attention_mask': Sequence(feature=Value(dtype='int8', id=None), length=-1, id=None),\n",
      " 'input_ids': Sequence(feature=Value(dtype='int32', id=None), length=-1, id=None),\n",
      " 'so_targets': Sequence(feature=Value(dtype='int64', id=None), length=-1, id=None),\n",
      " 'token_type_ids': Sequence(feature=Value(dtype='int8', id=None), length=-1, id=None)}\n"
     ]
    }
   ],
   "source": [
    "dataset = dataset.remove_columns(\n",
    "    [\"text\", \"storyid\", \"storytitle\"] + [f\"sentence{i}\" for i in range(1, 6)]\n",
    ")\n",
    "dataset.set_format(\"torch\")\n",
    "print(dataset[\"train\"].features)"
   ]
  },
  {
   "cell_type": "markdown",
   "id": "f54362f3",
   "metadata": {},
   "source": [
    "After only numeric data is left, we have to face the last problem in the collation problem.\n",
    "The Huggingface collation function only handles arrays of the same shape when collating them into one batch. In theory (e.g., with other datasets), we could have a varying number of labels if we wanted to work shuffled texts with a variable number of sentences. We tackle this problem by introducing a custom collation function to make our preparation pipeline as flexible as possible."
   ]
  },
  {
   "cell_type": "code",
   "execution_count": 19,
   "id": "98e42f4d",
   "metadata": {},
   "outputs": [],
   "source": [
    "from transformers import default_data_collator\n",
    "from torch.nn.utils.rnn import pad_sequence\n",
    "\n",
    "def so_data_collator(batch_entries, label_key='so_targets'):\n",
    "    \"\"\"\n",
    "    Custom dataloader to apply padding to the labels.\n",
    "    \"\"\"\n",
    "    label_dicts = []\n",
    "\n",
    "    # We split the labels from the rest to process them independently\n",
    "    for entry in batch_entries:\n",
    "        label_dict = {}\n",
    "        for key in list(entry.keys()):\n",
    "            if label_key in key:\n",
    "                label_dict[key] = entry.pop(key)\n",
    "        label_dicts.append(label_dict)\n",
    "\n",
    "    # Everything except our labels can easily be handled by the \"default collator\"\n",
    "    batch = default_data_collator(batch_entries)\n",
    "\n",
    "    # We need to pad the labels 'manually'\n",
    "    for label in label_dicts[0]:\n",
    "        labels = pad_sequence(\n",
    "            [label_dict[label] for label_dict in label_dicts],\n",
    "            batch_first=True,\n",
    "            padding_value=-100,\n",
    "        )\n",
    "\n",
    "        batch[label] = labels\n",
    "    return batch"
   ]
  },
  {
   "cell_type": "markdown",
   "id": "dc127db3",
   "metadata": {},
   "source": [
    "This function used the Huggingface default collation function to handle everything except the labels. The labels are padded with a batch-wise max length strategy and added to the batch."
   ]
  },
  {
   "cell_type": "code",
   "execution_count": 20,
   "id": "07b1f726",
   "metadata": {},
   "outputs": [
    {
     "name": "stdout",
     "output_type": "stream",
     "text": [
      "{'attention_mask': tensor([[1, 1, 1,  ..., 0, 0, 0],\n",
      "        [1, 1, 1,  ..., 0, 0, 0]]),\n",
      " 'input_ids': tensor([[ 101, 1220, 1400,  ...,    0,    0,    0],\n",
      "        [ 101, 1109, 3336,  ...,    0,    0,    0]]),\n",
      " 'so_targets': tensor([[3, 4, 2, 0, 1],\n",
      "        [1, 0, 2, 3, 4]]),\n",
      " 'token_type_ids': tensor([[0, 0, 0,  ..., 0, 0, 0],\n",
      "        [0, 0, 0,  ..., 0, 0, 0]])}\n"
     ]
    }
   ],
   "source": [
    "data_loader = DataLoader(dataset['train'], batch_size=2, collate_fn=so_data_collator)\n",
    "batch = next(iter(data_loader))\n",
    "print(batch)"
   ]
  },
  {
   "cell_type": "markdown",
   "id": "fe22ff54",
   "metadata": {},
   "source": [
    "Now the data is in the correct format for training.\n",
    "\n",
    "## Loss function\n",
    "\n",
    "As stated in the experimental design, we use a plain Mean-Squared-Error regression loss. Since we only want to consider the special tokens, we must select them before the actual computation. Therefore, we need the `input_ids` to figure out their position in the sequence.\n",
    "\n",
    "To compute the loss for one single batch, we add the loss scores of all sentences of one text and take the average of all batch entries.\n",
    "Due to computational constraints, transformer-based language models typically have a limit on the input size. So our inputs might have to be truncated to fit into the model. In this case, we discard the labels for the sentences left out and only consider the data that fits into the model.\n",
    "\n",
    "The following listing contains a general implementation of the loss function:"
   ]
  },
  {
   "cell_type": "code",
   "execution_count": null,
   "id": "df3629ce",
   "metadata": {
    "tags": [
     "skip-execution"
    ]
   },
   "outputs": [],
   "source": [
    "import torch\n",
    "from torch import nn\n",
    "\n",
    "def sentence_ordering_loss(batch_logits, batch_targets, batch_input_ids, target_token_id) -> torch.Tensor:\n",
    "    # Since we have varying number of labels per instance, we need to compute the loss manually for each one.\n",
    "    loss_fn = nn.MSELoss(reduction=\"sum\")\n",
    "    batch_loss = torch.tensor(0.0, dtype=torch.float64, requires_grad=True)\n",
    "    for labels, logits, input_ids in zip(\n",
    "        batch_labels, batch_logits, batch_input_ids\n",
    "    ):\n",
    "        # Firstly, we need to convert the sentence indices to regression targets.\n",
    "        # Also we need to remove the padding entries (-100)\n",
    "        true_labels = labels[labels != -100].reshape(-1)\n",
    "        targets = true_labels.float()\n",
    "\n",
    "        # Secondly, we need to get the logits from each target token in the input sequence\n",
    "        target_logits = logits[input_ids == target_token_id].reshape(-1)\n",
    "\n",
    "        # Sometimes, we will have less target_logits than targets due to trunction of the input.\n",
    "        # In this case, we just consider as many targets as we have logits\n",
    "        if target_logits.size(0) < targets.size(0):\n",
    "            targets = targets[: target_logits.size(0)]\n",
    "\n",
    "        # Finally we compute the loss for the current instance and add it to the batch loss\n",
    "        batch_loss = batch_loss + loss_fn(targets, target_logits)\n",
    "\n",
    "    # The final loss is obtained by averaging over the number of instances per batch\n",
    "    loss = batch_loss / batch_logits.size(0)\n",
    "\n",
    "    return loss"
   ]
  }
 ],
 "metadata": {
  "jupytext": {
   "text_representation": {
    "extension": ".md",
    "format_name": "myst",
    "format_version": 0.13,
    "jupytext_version": "1.10.3"
   }
  },
  "kernelspec": {
   "display_name": "Python 3 (ipykernel)",
   "language": "python",
   "name": "python3"
  },
  "language_info": {
   "codemirror_mode": {
    "name": "ipython",
    "version": 3
   },
   "file_extension": ".py",
   "mimetype": "text/x-python",
   "name": "python",
   "nbconvert_exporter": "python",
   "pygments_lexer": "ipython3",
   "version": "3.9.7"
  },
  "source_map": [
   14,
   23,
   37,
   39,
   43,
   46,
   50,
   54,
   56,
   69,
   104,
   109,
   113,
   115,
   119,
   121,
   128,
   138,
   142,
   147,
   150,
   164,
   171,
   173,
   179,
   185,
   191,
   209,
   219,
   230,
   235,
   241,
   246,
   277,
   281,
   285,
   298
  ],
  "widgets": {
   "application/vnd.jupyter.widget-state+json": {
    "state": {
     "008b6da50d014a06a083e6df6a9af1fe": {
      "model_module": "@jupyter-widgets/controls",
      "model_module_version": "1.5.0",
      "model_name": "DescriptionStyleModel",
      "state": {
       "_model_module": "@jupyter-widgets/controls",
       "_model_module_version": "1.5.0",
       "_model_name": "DescriptionStyleModel",
       "_view_count": null,
       "_view_module": "@jupyter-widgets/base",
       "_view_module_version": "1.2.0",
       "_view_name": "StyleView",
       "description_width": ""
      }
     },
     "0152b737113143f0860ebf3d821d30c7": {
      "model_module": "@jupyter-widgets/base",
      "model_module_version": "1.2.0",
      "model_name": "LayoutModel",
      "state": {
       "_model_module": "@jupyter-widgets/base",
       "_model_module_version": "1.2.0",
       "_model_name": "LayoutModel",
       "_view_count": null,
       "_view_module": "@jupyter-widgets/base",
       "_view_module_version": "1.2.0",
       "_view_name": "LayoutView",
       "align_content": null,
       "align_items": null,
       "align_self": null,
       "border": null,
       "bottom": null,
       "display": null,
       "flex": null,
       "flex_flow": null,
       "grid_area": null,
       "grid_auto_columns": null,
       "grid_auto_flow": null,
       "grid_auto_rows": null,
       "grid_column": null,
       "grid_gap": null,
       "grid_row": null,
       "grid_template_areas": null,
       "grid_template_columns": null,
       "grid_template_rows": null,
       "height": null,
       "justify_content": null,
       "justify_items": null,
       "left": null,
       "margin": null,
       "max_height": null,
       "max_width": null,
       "min_height": null,
       "min_width": null,
       "object_fit": null,
       "object_position": null,
       "order": null,
       "overflow": null,
       "overflow_x": null,
       "overflow_y": null,
       "padding": null,
       "right": null,
       "top": null,
       "visibility": null,
       "width": null
      }
     },
     "01a81ac686ac4b8db0d2e7245929bcfa": {
      "model_module": "@jupyter-widgets/controls",
      "model_module_version": "1.5.0",
      "model_name": "DescriptionStyleModel",
      "state": {
       "_model_module": "@jupyter-widgets/controls",
       "_model_module_version": "1.5.0",
       "_model_name": "DescriptionStyleModel",
       "_view_count": null,
       "_view_module": "@jupyter-widgets/base",
       "_view_module_version": "1.2.0",
       "_view_name": "StyleView",
       "description_width": ""
      }
     },
     "01e096a7e6e74241a327dd0d04e1c958": {
      "model_module": "@jupyter-widgets/controls",
      "model_module_version": "1.5.0",
      "model_name": "HBoxModel",
      "state": {
       "_dom_classes": [],
       "_model_module": "@jupyter-widgets/controls",
       "_model_module_version": "1.5.0",
       "_model_name": "HBoxModel",
       "_view_count": null,
       "_view_module": "@jupyter-widgets/controls",
       "_view_module_version": "1.5.0",
       "_view_name": "HBoxView",
       "box_style": "",
       "children": [
        "IPY_MODEL_16268097c5d34ac6a1e7359c8201c9bd",
        "IPY_MODEL_31cd7a03976049f59fc82c7263ffde1c",
        "IPY_MODEL_52a096a0cb5f4a3bb7d46c63cebc9200"
       ],
       "layout": "IPY_MODEL_36fe5a7c9ad64d86aa71a8f67ec2faf5"
      }
     },
     "0c54f6ad0a144a498b6b5f7968b77c45": {
      "model_module": "@jupyter-widgets/controls",
      "model_module_version": "1.5.0",
      "model_name": "HTMLModel",
      "state": {
       "_dom_classes": [],
       "_model_module": "@jupyter-widgets/controls",
       "_model_module_version": "1.5.0",
       "_model_name": "HTMLModel",
       "_view_count": null,
       "_view_module": "@jupyter-widgets/controls",
       "_view_module_version": "1.5.0",
       "_view_name": "HTMLView",
       "description": "",
       "description_tooltip": null,
       "layout": "IPY_MODEL_c0f4f9da6b8e411ab9a29d1ed0eb4fb9",
       "placeholder": "​",
       "style": "IPY_MODEL_cc210e30da5a466bb567c8342d3554ae",
       "value": " 8/8 [00:01&lt;00:00,  7.18ba/s]"
      }
     },
     "16268097c5d34ac6a1e7359c8201c9bd": {
      "model_module": "@jupyter-widgets/controls",
      "model_module_version": "1.5.0",
      "model_name": "HTMLModel",
      "state": {
       "_dom_classes": [],
       "_model_module": "@jupyter-widgets/controls",
       "_model_module_version": "1.5.0",
       "_model_name": "HTMLModel",
       "_view_count": null,
       "_view_module": "@jupyter-widgets/controls",
       "_view_module_version": "1.5.0",
       "_view_name": "HTMLView",
       "description": "",
       "description_tooltip": null,
       "layout": "IPY_MODEL_4a66f0f0b31d4470a7b80ba16de69063",
       "placeholder": "​",
       "style": "IPY_MODEL_69226020c07444bd95d05d577a03c58d",
       "value": "100%"
      }
     },
     "1c338e52a9514e03850a3682e5799330": {
      "model_module": "@jupyter-widgets/base",
      "model_module_version": "1.2.0",
      "model_name": "LayoutModel",
      "state": {
       "_model_module": "@jupyter-widgets/base",
       "_model_module_version": "1.2.0",
       "_model_name": "LayoutModel",
       "_view_count": null,
       "_view_module": "@jupyter-widgets/base",
       "_view_module_version": "1.2.0",
       "_view_name": "LayoutView",
       "align_content": null,
       "align_items": null,
       "align_self": null,
       "border": null,
       "bottom": null,
       "display": null,
       "flex": null,
       "flex_flow": null,
       "grid_area": null,
       "grid_auto_columns": null,
       "grid_auto_flow": null,
       "grid_auto_rows": null,
       "grid_column": null,
       "grid_gap": null,
       "grid_row": null,
       "grid_template_areas": null,
       "grid_template_columns": null,
       "grid_template_rows": null,
       "height": null,
       "justify_content": null,
       "justify_items": null,
       "left": null,
       "margin": null,
       "max_height": null,
       "max_width": null,
       "min_height": null,
       "min_width": null,
       "object_fit": null,
       "object_position": null,
       "order": null,
       "overflow": null,
       "overflow_x": null,
       "overflow_y": null,
       "padding": null,
       "right": null,
       "top": null,
       "visibility": null,
       "width": null
      }
     },
     "1e66519049dc4673bf1b4a0a0d5e29c2": {
      "model_module": "@jupyter-widgets/controls",
      "model_module_version": "1.5.0",
      "model_name": "HTMLModel",
      "state": {
       "_dom_classes": [],
       "_model_module": "@jupyter-widgets/controls",
       "_model_module_version": "1.5.0",
       "_model_name": "HTMLModel",
       "_view_count": null,
       "_view_module": "@jupyter-widgets/controls",
       "_view_module_version": "1.5.0",
       "_view_name": "HTMLView",
       "description": "",
       "description_tooltip": null,
       "layout": "IPY_MODEL_2922239c802a486fa7c2da5cce928a60",
       "placeholder": "​",
       "style": "IPY_MODEL_3743c5d591364add988d093c55fb35d7",
       "value": "100%"
      }
     },
     "1f7616f06a764a78b38cf31520acebd8": {
      "model_module": "@jupyter-widgets/controls",
      "model_module_version": "1.5.0",
      "model_name": "HBoxModel",
      "state": {
       "_dom_classes": [],
       "_model_module": "@jupyter-widgets/controls",
       "_model_module_version": "1.5.0",
       "_model_name": "HBoxModel",
       "_view_count": null,
       "_view_module": "@jupyter-widgets/controls",
       "_view_module_version": "1.5.0",
       "_view_name": "HBoxView",
       "box_style": "",
       "children": [
        "IPY_MODEL_3ad1cd4e0eed40af91ce0882bbf867fd",
        "IPY_MODEL_d6227366aa84476cb4cfbd0301438664",
        "IPY_MODEL_915c2a849ade468b9469637887d934fa"
       ],
       "layout": "IPY_MODEL_78e23180501141828ece537afaac7d50"
      }
     },
     "239e869dc1b94178975ef6d7d43bdb59": {
      "model_module": "@jupyter-widgets/controls",
      "model_module_version": "1.5.0",
      "model_name": "FloatProgressModel",
      "state": {
       "_dom_classes": [],
       "_model_module": "@jupyter-widgets/controls",
       "_model_module_version": "1.5.0",
       "_model_name": "FloatProgressModel",
       "_view_count": null,
       "_view_module": "@jupyter-widgets/controls",
       "_view_module_version": "1.5.0",
       "_view_name": "ProgressView",
       "bar_style": "success",
       "description": "",
       "description_tooltip": null,
       "layout": "IPY_MODEL_d538c8a456e24d2f96598124dd208cd4",
       "max": 43.0,
       "min": 0.0,
       "orientation": "horizontal",
       "style": "IPY_MODEL_4eabc00cec7a41498c90f3d616818fa0",
       "value": 43.0
      }
     },
     "259c25c246864b23b63a634b105efd55": {
      "model_module": "@jupyter-widgets/base",
      "model_module_version": "1.2.0",
      "model_name": "LayoutModel",
      "state": {
       "_model_module": "@jupyter-widgets/base",
       "_model_module_version": "1.2.0",
       "_model_name": "LayoutModel",
       "_view_count": null,
       "_view_module": "@jupyter-widgets/base",
       "_view_module_version": "1.2.0",
       "_view_name": "LayoutView",
       "align_content": null,
       "align_items": null,
       "align_self": null,
       "border": null,
       "bottom": null,
       "display": null,
       "flex": null,
       "flex_flow": null,
       "grid_area": null,
       "grid_auto_columns": null,
       "grid_auto_flow": null,
       "grid_auto_rows": null,
       "grid_column": null,
       "grid_gap": null,
       "grid_row": null,
       "grid_template_areas": null,
       "grid_template_columns": null,
       "grid_template_rows": null,
       "height": null,
       "justify_content": null,
       "justify_items": null,
       "left": null,
       "margin": null,
       "max_height": null,
       "max_width": null,
       "min_height": null,
       "min_width": null,
       "object_fit": null,
       "object_position": null,
       "order": null,
       "overflow": null,
       "overflow_x": null,
       "overflow_y": null,
       "padding": null,
       "right": null,
       "top": null,
       "visibility": null,
       "width": null
      }
     },
     "2922239c802a486fa7c2da5cce928a60": {
      "model_module": "@jupyter-widgets/base",
      "model_module_version": "1.2.0",
      "model_name": "LayoutModel",
      "state": {
       "_model_module": "@jupyter-widgets/base",
       "_model_module_version": "1.2.0",
       "_model_name": "LayoutModel",
       "_view_count": null,
       "_view_module": "@jupyter-widgets/base",
       "_view_module_version": "1.2.0",
       "_view_name": "LayoutView",
       "align_content": null,
       "align_items": null,
       "align_self": null,
       "border": null,
       "bottom": null,
       "display": null,
       "flex": null,
       "flex_flow": null,
       "grid_area": null,
       "grid_auto_columns": null,
       "grid_auto_flow": null,
       "grid_auto_rows": null,
       "grid_column": null,
       "grid_gap": null,
       "grid_row": null,
       "grid_template_areas": null,
       "grid_template_columns": null,
       "grid_template_rows": null,
       "height": null,
       "justify_content": null,
       "justify_items": null,
       "left": null,
       "margin": null,
       "max_height": null,
       "max_width": null,
       "min_height": null,
       "min_width": null,
       "object_fit": null,
       "object_position": null,
       "order": null,
       "overflow": null,
       "overflow_x": null,
       "overflow_y": null,
       "padding": null,
       "right": null,
       "top": null,
       "visibility": null,
       "width": null
      }
     },
     "2eada04d96b141d084780791cb291f27": {
      "model_module": "@jupyter-widgets/controls",
      "model_module_version": "1.5.0",
      "model_name": "ProgressStyleModel",
      "state": {
       "_model_module": "@jupyter-widgets/controls",
       "_model_module_version": "1.5.0",
       "_model_name": "ProgressStyleModel",
       "_view_count": null,
       "_view_module": "@jupyter-widgets/base",
       "_view_module_version": "1.2.0",
       "_view_name": "StyleView",
       "bar_color": null,
       "description_width": ""
      }
     },
     "31cd7a03976049f59fc82c7263ffde1c": {
      "model_module": "@jupyter-widgets/controls",
      "model_module_version": "1.5.0",
      "model_name": "FloatProgressModel",
      "state": {
       "_dom_classes": [],
       "_model_module": "@jupyter-widgets/controls",
       "_model_module_version": "1.5.0",
       "_model_name": "FloatProgressModel",
       "_view_count": null,
       "_view_module": "@jupyter-widgets/controls",
       "_view_module_version": "1.5.0",
       "_view_name": "ProgressView",
       "bar_style": "success",
       "description": "",
       "description_tooltip": null,
       "layout": "IPY_MODEL_0152b737113143f0860ebf3d821d30c7",
       "max": 4.0,
       "min": 0.0,
       "orientation": "horizontal",
       "style": "IPY_MODEL_4a98659f1c3d4c09842edaa085492ee2",
       "value": 4.0
      }
     },
     "36fe5a7c9ad64d86aa71a8f67ec2faf5": {
      "model_module": "@jupyter-widgets/base",
      "model_module_version": "1.2.0",
      "model_name": "LayoutModel",
      "state": {
       "_model_module": "@jupyter-widgets/base",
       "_model_module_version": "1.2.0",
       "_model_name": "LayoutModel",
       "_view_count": null,
       "_view_module": "@jupyter-widgets/base",
       "_view_module_version": "1.2.0",
       "_view_name": "LayoutView",
       "align_content": null,
       "align_items": null,
       "align_self": null,
       "border": null,
       "bottom": null,
       "display": null,
       "flex": null,
       "flex_flow": null,
       "grid_area": null,
       "grid_auto_columns": null,
       "grid_auto_flow": null,
       "grid_auto_rows": null,
       "grid_column": null,
       "grid_gap": null,
       "grid_row": null,
       "grid_template_areas": null,
       "grid_template_columns": null,
       "grid_template_rows": null,
       "height": null,
       "justify_content": null,
       "justify_items": null,
       "left": null,
       "margin": null,
       "max_height": null,
       "max_width": null,
       "min_height": null,
       "min_width": null,
       "object_fit": null,
       "object_position": null,
       "order": null,
       "overflow": null,
       "overflow_x": null,
       "overflow_y": null,
       "padding": null,
       "right": null,
       "top": null,
       "visibility": null,
       "width": null
      }
     },
     "3743c5d591364add988d093c55fb35d7": {
      "model_module": "@jupyter-widgets/controls",
      "model_module_version": "1.5.0",
      "model_name": "DescriptionStyleModel",
      "state": {
       "_model_module": "@jupyter-widgets/controls",
       "_model_module_version": "1.5.0",
       "_model_name": "DescriptionStyleModel",
       "_view_count": null,
       "_view_module": "@jupyter-widgets/base",
       "_view_module_version": "1.2.0",
       "_view_name": "StyleView",
       "description_width": ""
      }
     },
     "3ad1cd4e0eed40af91ce0882bbf867fd": {
      "model_module": "@jupyter-widgets/controls",
      "model_module_version": "1.5.0",
      "model_name": "HTMLModel",
      "state": {
       "_dom_classes": [],
       "_model_module": "@jupyter-widgets/controls",
       "_model_module_version": "1.5.0",
       "_model_name": "HTMLModel",
       "_view_count": null,
       "_view_module": "@jupyter-widgets/controls",
       "_view_module_version": "1.5.0",
       "_view_name": "HTMLView",
       "description": "",
       "description_tooltip": null,
       "layout": "IPY_MODEL_5641827ebef94ab586385c58372e382c",
       "placeholder": "​",
       "style": "IPY_MODEL_e990abc6ba3543c6905df1b8d8780676",
       "value": "100%"
      }
     },
     "3e4f7a3b0b4547028b67e0756a62df90": {
      "model_module": "@jupyter-widgets/base",
      "model_module_version": "1.2.0",
      "model_name": "LayoutModel",
      "state": {
       "_model_module": "@jupyter-widgets/base",
       "_model_module_version": "1.2.0",
       "_model_name": "LayoutModel",
       "_view_count": null,
       "_view_module": "@jupyter-widgets/base",
       "_view_module_version": "1.2.0",
       "_view_name": "LayoutView",
       "align_content": null,
       "align_items": null,
       "align_self": null,
       "border": null,
       "bottom": null,
       "display": null,
       "flex": null,
       "flex_flow": null,
       "grid_area": null,
       "grid_auto_columns": null,
       "grid_auto_flow": null,
       "grid_auto_rows": null,
       "grid_column": null,
       "grid_gap": null,
       "grid_row": null,
       "grid_template_areas": null,
       "grid_template_columns": null,
       "grid_template_rows": null,
       "height": null,
       "justify_content": null,
       "justify_items": null,
       "left": null,
       "margin": null,
       "max_height": null,
       "max_width": null,
       "min_height": null,
       "min_width": null,
       "object_fit": null,
       "object_position": null,
       "order": null,
       "overflow": null,
       "overflow_x": null,
       "overflow_y": null,
       "padding": null,
       "right": null,
       "top": null,
       "visibility": null,
       "width": null
      }
     },
     "4a66f0f0b31d4470a7b80ba16de69063": {
      "model_module": "@jupyter-widgets/base",
      "model_module_version": "1.2.0",
      "model_name": "LayoutModel",
      "state": {
       "_model_module": "@jupyter-widgets/base",
       "_model_module_version": "1.2.0",
       "_model_name": "LayoutModel",
       "_view_count": null,
       "_view_module": "@jupyter-widgets/base",
       "_view_module_version": "1.2.0",
       "_view_name": "LayoutView",
       "align_content": null,
       "align_items": null,
       "align_self": null,
       "border": null,
       "bottom": null,
       "display": null,
       "flex": null,
       "flex_flow": null,
       "grid_area": null,
       "grid_auto_columns": null,
       "grid_auto_flow": null,
       "grid_auto_rows": null,
       "grid_column": null,
       "grid_gap": null,
       "grid_row": null,
       "grid_template_areas": null,
       "grid_template_columns": null,
       "grid_template_rows": null,
       "height": null,
       "justify_content": null,
       "justify_items": null,
       "left": null,
       "margin": null,
       "max_height": null,
       "max_width": null,
       "min_height": null,
       "min_width": null,
       "object_fit": null,
       "object_position": null,
       "order": null,
       "overflow": null,
       "overflow_x": null,
       "overflow_y": null,
       "padding": null,
       "right": null,
       "top": null,
       "visibility": null,
       "width": null
      }
     },
     "4a98659f1c3d4c09842edaa085492ee2": {
      "model_module": "@jupyter-widgets/controls",
      "model_module_version": "1.5.0",
      "model_name": "ProgressStyleModel",
      "state": {
       "_model_module": "@jupyter-widgets/controls",
       "_model_module_version": "1.5.0",
       "_model_name": "ProgressStyleModel",
       "_view_count": null,
       "_view_module": "@jupyter-widgets/base",
       "_view_module_version": "1.2.0",
       "_view_name": "StyleView",
       "bar_color": null,
       "description_width": ""
      }
     },
     "4c9aa76b3a9546658d66712bd77c5db2": {
      "model_module": "@jupyter-widgets/controls",
      "model_module_version": "1.5.0",
      "model_name": "HBoxModel",
      "state": {
       "_dom_classes": [],
       "_model_module": "@jupyter-widgets/controls",
       "_model_module_version": "1.5.0",
       "_model_name": "HBoxModel",
       "_view_count": null,
       "_view_module": "@jupyter-widgets/controls",
       "_view_module_version": "1.5.0",
       "_view_name": "HBoxView",
       "box_style": "",
       "children": [
        "IPY_MODEL_53638824067c417484dbf36e99d10870",
        "IPY_MODEL_d63edcbe526f4a399e1827b6eacfac6c",
        "IPY_MODEL_0c54f6ad0a144a498b6b5f7968b77c45"
       ],
       "layout": "IPY_MODEL_ec9daa6e36924fa6980621a90afed654"
      }
     },
     "4eabc00cec7a41498c90f3d616818fa0": {
      "model_module": "@jupyter-widgets/controls",
      "model_module_version": "1.5.0",
      "model_name": "ProgressStyleModel",
      "state": {
       "_model_module": "@jupyter-widgets/controls",
       "_model_module_version": "1.5.0",
       "_model_name": "ProgressStyleModel",
       "_view_count": null,
       "_view_module": "@jupyter-widgets/base",
       "_view_module_version": "1.2.0",
       "_view_name": "StyleView",
       "bar_color": null,
       "description_width": ""
      }
     },
     "52a096a0cb5f4a3bb7d46c63cebc9200": {
      "model_module": "@jupyter-widgets/controls",
      "model_module_version": "1.5.0",
      "model_name": "HTMLModel",
      "state": {
       "_dom_classes": [],
       "_model_module": "@jupyter-widgets/controls",
       "_model_module_version": "1.5.0",
       "_model_name": "HTMLModel",
       "_view_count": null,
       "_view_module": "@jupyter-widgets/controls",
       "_view_module_version": "1.5.0",
       "_view_name": "HTMLView",
       "description": "",
       "description_tooltip": null,
       "layout": "IPY_MODEL_3e4f7a3b0b4547028b67e0756a62df90",
       "placeholder": "​",
       "style": "IPY_MODEL_008b6da50d014a06a083e6df6a9af1fe",
       "value": " 4/4 [00:00&lt;00:00,  6.22ba/s]"
      }
     },
     "53638824067c417484dbf36e99d10870": {
      "model_module": "@jupyter-widgets/controls",
      "model_module_version": "1.5.0",
      "model_name": "HTMLModel",
      "state": {
       "_dom_classes": [],
       "_model_module": "@jupyter-widgets/controls",
       "_model_module_version": "1.5.0",
       "_model_name": "HTMLModel",
       "_view_count": null,
       "_view_module": "@jupyter-widgets/controls",
       "_view_module_version": "1.5.0",
       "_view_name": "HTMLView",
       "description": "",
       "description_tooltip": null,
       "layout": "IPY_MODEL_dccbca9062544e2d90c2c4d3ccc302a5",
       "placeholder": "​",
       "style": "IPY_MODEL_a25445f638e04e5ca5c861f9b0e85e76",
       "value": "100%"
      }
     },
     "5641827ebef94ab586385c58372e382c": {
      "model_module": "@jupyter-widgets/base",
      "model_module_version": "1.2.0",
      "model_name": "LayoutModel",
      "state": {
       "_model_module": "@jupyter-widgets/base",
       "_model_module_version": "1.2.0",
       "_model_name": "LayoutModel",
       "_view_count": null,
       "_view_module": "@jupyter-widgets/base",
       "_view_module_version": "1.2.0",
       "_view_name": "LayoutView",
       "align_content": null,
       "align_items": null,
       "align_self": null,
       "border": null,
       "bottom": null,
       "display": null,
       "flex": null,
       "flex_flow": null,
       "grid_area": null,
       "grid_auto_columns": null,
       "grid_auto_flow": null,
       "grid_auto_rows": null,
       "grid_column": null,
       "grid_gap": null,
       "grid_row": null,
       "grid_template_areas": null,
       "grid_template_columns": null,
       "grid_template_rows": null,
       "height": null,
       "justify_content": null,
       "justify_items": null,
       "left": null,
       "margin": null,
       "max_height": null,
       "max_width": null,
       "min_height": null,
       "min_width": null,
       "object_fit": null,
       "object_position": null,
       "order": null,
       "overflow": null,
       "overflow_x": null,
       "overflow_y": null,
       "padding": null,
       "right": null,
       "top": null,
       "visibility": null,
       "width": null
      }
     },
     "69226020c07444bd95d05d577a03c58d": {
      "model_module": "@jupyter-widgets/controls",
      "model_module_version": "1.5.0",
      "model_name": "DescriptionStyleModel",
      "state": {
       "_model_module": "@jupyter-widgets/controls",
       "_model_module_version": "1.5.0",
       "_model_name": "DescriptionStyleModel",
       "_view_count": null,
       "_view_module": "@jupyter-widgets/base",
       "_view_module_version": "1.2.0",
       "_view_name": "StyleView",
       "description_width": ""
      }
     },
     "6a13bd82989b4f1982fe28f28943b416": {
      "model_module": "@jupyter-widgets/base",
      "model_module_version": "1.2.0",
      "model_name": "LayoutModel",
      "state": {
       "_model_module": "@jupyter-widgets/base",
       "_model_module_version": "1.2.0",
       "_model_name": "LayoutModel",
       "_view_count": null,
       "_view_module": "@jupyter-widgets/base",
       "_view_module_version": "1.2.0",
       "_view_name": "LayoutView",
       "align_content": null,
       "align_items": null,
       "align_self": null,
       "border": null,
       "bottom": null,
       "display": null,
       "flex": null,
       "flex_flow": null,
       "grid_area": null,
       "grid_auto_columns": null,
       "grid_auto_flow": null,
       "grid_auto_rows": null,
       "grid_column": null,
       "grid_gap": null,
       "grid_row": null,
       "grid_template_areas": null,
       "grid_template_columns": null,
       "grid_template_rows": null,
       "height": null,
       "justify_content": null,
       "justify_items": null,
       "left": null,
       "margin": null,
       "max_height": null,
       "max_width": null,
       "min_height": null,
       "min_width": null,
       "object_fit": null,
       "object_position": null,
       "order": null,
       "overflow": null,
       "overflow_x": null,
       "overflow_y": null,
       "padding": null,
       "right": null,
       "top": null,
       "visibility": null,
       "width": null
      }
     },
     "78e23180501141828ece537afaac7d50": {
      "model_module": "@jupyter-widgets/base",
      "model_module_version": "1.2.0",
      "model_name": "LayoutModel",
      "state": {
       "_model_module": "@jupyter-widgets/base",
       "_model_module_version": "1.2.0",
       "_model_name": "LayoutModel",
       "_view_count": null,
       "_view_module": "@jupyter-widgets/base",
       "_view_module_version": "1.2.0",
       "_view_name": "LayoutView",
       "align_content": null,
       "align_items": null,
       "align_self": null,
       "border": null,
       "bottom": null,
       "display": null,
       "flex": null,
       "flex_flow": null,
       "grid_area": null,
       "grid_auto_columns": null,
       "grid_auto_flow": null,
       "grid_auto_rows": null,
       "grid_column": null,
       "grid_gap": null,
       "grid_row": null,
       "grid_template_areas": null,
       "grid_template_columns": null,
       "grid_template_rows": null,
       "height": null,
       "justify_content": null,
       "justify_items": null,
       "left": null,
       "margin": null,
       "max_height": null,
       "max_width": null,
       "min_height": null,
       "min_width": null,
       "object_fit": null,
       "object_position": null,
       "order": null,
       "overflow": null,
       "overflow_x": null,
       "overflow_y": null,
       "padding": null,
       "right": null,
       "top": null,
       "visibility": null,
       "width": null
      }
     },
     "86a8049d24bb46319b7d4d0e7c31c961": {
      "model_module": "@jupyter-widgets/controls",
      "model_module_version": "1.5.0",
      "model_name": "DescriptionStyleModel",
      "state": {
       "_model_module": "@jupyter-widgets/controls",
       "_model_module_version": "1.5.0",
       "_model_name": "DescriptionStyleModel",
       "_view_count": null,
       "_view_module": "@jupyter-widgets/base",
       "_view_module_version": "1.2.0",
       "_view_name": "StyleView",
       "description_width": ""
      }
     },
     "915c2a849ade468b9469637887d934fa": {
      "model_module": "@jupyter-widgets/controls",
      "model_module_version": "1.5.0",
      "model_name": "HTMLModel",
      "state": {
       "_dom_classes": [],
       "_model_module": "@jupyter-widgets/controls",
       "_model_module_version": "1.5.0",
       "_model_name": "HTMLModel",
       "_view_count": null,
       "_view_module": "@jupyter-widgets/controls",
       "_view_module_version": "1.5.0",
       "_view_name": "HTMLView",
       "description": "",
       "description_tooltip": null,
       "layout": "IPY_MODEL_1c338e52a9514e03850a3682e5799330",
       "placeholder": "​",
       "style": "IPY_MODEL_01a81ac686ac4b8db0d2e7245929bcfa",
       "value": " 53/53 [00:00&lt;00:00, 100.21ba/s]"
      }
     },
     "92251d37f85b43298be6dfb1c04004e1": {
      "model_module": "@jupyter-widgets/base",
      "model_module_version": "1.2.0",
      "model_name": "LayoutModel",
      "state": {
       "_model_module": "@jupyter-widgets/base",
       "_model_module_version": "1.2.0",
       "_model_name": "LayoutModel",
       "_view_count": null,
       "_view_module": "@jupyter-widgets/base",
       "_view_module_version": "1.2.0",
       "_view_name": "LayoutView",
       "align_content": null,
       "align_items": null,
       "align_self": null,
       "border": null,
       "bottom": null,
       "display": null,
       "flex": null,
       "flex_flow": null,
       "grid_area": null,
       "grid_auto_columns": null,
       "grid_auto_flow": null,
       "grid_auto_rows": null,
       "grid_column": null,
       "grid_gap": null,
       "grid_row": null,
       "grid_template_areas": null,
       "grid_template_columns": null,
       "grid_template_rows": null,
       "height": null,
       "justify_content": null,
       "justify_items": null,
       "left": null,
       "margin": null,
       "max_height": null,
       "max_width": null,
       "min_height": null,
       "min_width": null,
       "object_fit": null,
       "object_position": null,
       "order": null,
       "overflow": null,
       "overflow_x": null,
       "overflow_y": null,
       "padding": null,
       "right": null,
       "top": null,
       "visibility": null,
       "width": null
      }
     },
     "a25445f638e04e5ca5c861f9b0e85e76": {
      "model_module": "@jupyter-widgets/controls",
      "model_module_version": "1.5.0",
      "model_name": "DescriptionStyleModel",
      "state": {
       "_model_module": "@jupyter-widgets/controls",
       "_model_module_version": "1.5.0",
       "_model_name": "DescriptionStyleModel",
       "_view_count": null,
       "_view_module": "@jupyter-widgets/base",
       "_view_module_version": "1.2.0",
       "_view_name": "StyleView",
       "description_width": ""
      }
     },
     "c0f4f9da6b8e411ab9a29d1ed0eb4fb9": {
      "model_module": "@jupyter-widgets/base",
      "model_module_version": "1.2.0",
      "model_name": "LayoutModel",
      "state": {
       "_model_module": "@jupyter-widgets/base",
       "_model_module_version": "1.2.0",
       "_model_name": "LayoutModel",
       "_view_count": null,
       "_view_module": "@jupyter-widgets/base",
       "_view_module_version": "1.2.0",
       "_view_name": "LayoutView",
       "align_content": null,
       "align_items": null,
       "align_self": null,
       "border": null,
       "bottom": null,
       "display": null,
       "flex": null,
       "flex_flow": null,
       "grid_area": null,
       "grid_auto_columns": null,
       "grid_auto_flow": null,
       "grid_auto_rows": null,
       "grid_column": null,
       "grid_gap": null,
       "grid_row": null,
       "grid_template_areas": null,
       "grid_template_columns": null,
       "grid_template_rows": null,
       "height": null,
       "justify_content": null,
       "justify_items": null,
       "left": null,
       "margin": null,
       "max_height": null,
       "max_width": null,
       "min_height": null,
       "min_width": null,
       "object_fit": null,
       "object_position": null,
       "order": null,
       "overflow": null,
       "overflow_x": null,
       "overflow_y": null,
       "padding": null,
       "right": null,
       "top": null,
       "visibility": null,
       "width": null
      }
     },
     "cc210e30da5a466bb567c8342d3554ae": {
      "model_module": "@jupyter-widgets/controls",
      "model_module_version": "1.5.0",
      "model_name": "DescriptionStyleModel",
      "state": {
       "_model_module": "@jupyter-widgets/controls",
       "_model_module_version": "1.5.0",
       "_model_name": "DescriptionStyleModel",
       "_view_count": null,
       "_view_module": "@jupyter-widgets/base",
       "_view_module_version": "1.2.0",
       "_view_name": "StyleView",
       "description_width": ""
      }
     },
     "ce6d962603d1491daaadb483df5d5f05": {
      "model_module": "@jupyter-widgets/base",
      "model_module_version": "1.2.0",
      "model_name": "LayoutModel",
      "state": {
       "_model_module": "@jupyter-widgets/base",
       "_model_module_version": "1.2.0",
       "_model_name": "LayoutModel",
       "_view_count": null,
       "_view_module": "@jupyter-widgets/base",
       "_view_module_version": "1.2.0",
       "_view_name": "LayoutView",
       "align_content": null,
       "align_items": null,
       "align_self": null,
       "border": null,
       "bottom": null,
       "display": null,
       "flex": null,
       "flex_flow": null,
       "grid_area": null,
       "grid_auto_columns": null,
       "grid_auto_flow": null,
       "grid_auto_rows": null,
       "grid_column": null,
       "grid_gap": null,
       "grid_row": null,
       "grid_template_areas": null,
       "grid_template_columns": null,
       "grid_template_rows": null,
       "height": null,
       "justify_content": null,
       "justify_items": null,
       "left": null,
       "margin": null,
       "max_height": null,
       "max_width": null,
       "min_height": null,
       "min_width": null,
       "object_fit": null,
       "object_position": null,
       "order": null,
       "overflow": null,
       "overflow_x": null,
       "overflow_y": null,
       "padding": null,
       "right": null,
       "top": null,
       "visibility": null,
       "width": null
      }
     },
     "d538c8a456e24d2f96598124dd208cd4": {
      "model_module": "@jupyter-widgets/base",
      "model_module_version": "1.2.0",
      "model_name": "LayoutModel",
      "state": {
       "_model_module": "@jupyter-widgets/base",
       "_model_module_version": "1.2.0",
       "_model_name": "LayoutModel",
       "_view_count": null,
       "_view_module": "@jupyter-widgets/base",
       "_view_module_version": "1.2.0",
       "_view_name": "LayoutView",
       "align_content": null,
       "align_items": null,
       "align_self": null,
       "border": null,
       "bottom": null,
       "display": null,
       "flex": null,
       "flex_flow": null,
       "grid_area": null,
       "grid_auto_columns": null,
       "grid_auto_flow": null,
       "grid_auto_rows": null,
       "grid_column": null,
       "grid_gap": null,
       "grid_row": null,
       "grid_template_areas": null,
       "grid_template_columns": null,
       "grid_template_rows": null,
       "height": null,
       "justify_content": null,
       "justify_items": null,
       "left": null,
       "margin": null,
       "max_height": null,
       "max_width": null,
       "min_height": null,
       "min_width": null,
       "object_fit": null,
       "object_position": null,
       "order": null,
       "overflow": null,
       "overflow_x": null,
       "overflow_y": null,
       "padding": null,
       "right": null,
       "top": null,
       "visibility": null,
       "width": null
      }
     },
     "d6227366aa84476cb4cfbd0301438664": {
      "model_module": "@jupyter-widgets/controls",
      "model_module_version": "1.5.0",
      "model_name": "FloatProgressModel",
      "state": {
       "_dom_classes": [],
       "_model_module": "@jupyter-widgets/controls",
       "_model_module_version": "1.5.0",
       "_model_name": "FloatProgressModel",
       "_view_count": null,
       "_view_module": "@jupyter-widgets/controls",
       "_view_module_version": "1.5.0",
       "_view_name": "ProgressView",
       "bar_style": "success",
       "description": "",
       "description_tooltip": null,
       "layout": "IPY_MODEL_6a13bd82989b4f1982fe28f28943b416",
       "max": 53.0,
       "min": 0.0,
       "orientation": "horizontal",
       "style": "IPY_MODEL_d8f3b27dffdc48bdb2926e5d95874f56",
       "value": 53.0
      }
     },
     "d63edcbe526f4a399e1827b6eacfac6c": {
      "model_module": "@jupyter-widgets/controls",
      "model_module_version": "1.5.0",
      "model_name": "FloatProgressModel",
      "state": {
       "_dom_classes": [],
       "_model_module": "@jupyter-widgets/controls",
       "_model_module_version": "1.5.0",
       "_model_name": "FloatProgressModel",
       "_view_count": null,
       "_view_module": "@jupyter-widgets/controls",
       "_view_module_version": "1.5.0",
       "_view_name": "ProgressView",
       "bar_style": "success",
       "description": "",
       "description_tooltip": null,
       "layout": "IPY_MODEL_259c25c246864b23b63a634b105efd55",
       "max": 8.0,
       "min": 0.0,
       "orientation": "horizontal",
       "style": "IPY_MODEL_2eada04d96b141d084780791cb291f27",
       "value": 8.0
      }
     },
     "d8f3b27dffdc48bdb2926e5d95874f56": {
      "model_module": "@jupyter-widgets/controls",
      "model_module_version": "1.5.0",
      "model_name": "ProgressStyleModel",
      "state": {
       "_model_module": "@jupyter-widgets/controls",
       "_model_module_version": "1.5.0",
       "_model_name": "ProgressStyleModel",
       "_view_count": null,
       "_view_module": "@jupyter-widgets/base",
       "_view_module_version": "1.2.0",
       "_view_name": "StyleView",
       "bar_color": null,
       "description_width": ""
      }
     },
     "dccbca9062544e2d90c2c4d3ccc302a5": {
      "model_module": "@jupyter-widgets/base",
      "model_module_version": "1.2.0",
      "model_name": "LayoutModel",
      "state": {
       "_model_module": "@jupyter-widgets/base",
       "_model_module_version": "1.2.0",
       "_model_name": "LayoutModel",
       "_view_count": null,
       "_view_module": "@jupyter-widgets/base",
       "_view_module_version": "1.2.0",
       "_view_name": "LayoutView",
       "align_content": null,
       "align_items": null,
       "align_self": null,
       "border": null,
       "bottom": null,
       "display": null,
       "flex": null,
       "flex_flow": null,
       "grid_area": null,
       "grid_auto_columns": null,
       "grid_auto_flow": null,
       "grid_auto_rows": null,
       "grid_column": null,
       "grid_gap": null,
       "grid_row": null,
       "grid_template_areas": null,
       "grid_template_columns": null,
       "grid_template_rows": null,
       "height": null,
       "justify_content": null,
       "justify_items": null,
       "left": null,
       "margin": null,
       "max_height": null,
       "max_width": null,
       "min_height": null,
       "min_width": null,
       "object_fit": null,
       "object_position": null,
       "order": null,
       "overflow": null,
       "overflow_x": null,
       "overflow_y": null,
       "padding": null,
       "right": null,
       "top": null,
       "visibility": null,
       "width": null
      }
     },
     "e990abc6ba3543c6905df1b8d8780676": {
      "model_module": "@jupyter-widgets/controls",
      "model_module_version": "1.5.0",
      "model_name": "DescriptionStyleModel",
      "state": {
       "_model_module": "@jupyter-widgets/controls",
       "_model_module_version": "1.5.0",
       "_model_name": "DescriptionStyleModel",
       "_view_count": null,
       "_view_module": "@jupyter-widgets/base",
       "_view_module_version": "1.2.0",
       "_view_name": "StyleView",
       "description_width": ""
      }
     },
     "ec9daa6e36924fa6980621a90afed654": {
      "model_module": "@jupyter-widgets/base",
      "model_module_version": "1.2.0",
      "model_name": "LayoutModel",
      "state": {
       "_model_module": "@jupyter-widgets/base",
       "_model_module_version": "1.2.0",
       "_model_name": "LayoutModel",
       "_view_count": null,
       "_view_module": "@jupyter-widgets/base",
       "_view_module_version": "1.2.0",
       "_view_name": "LayoutView",
       "align_content": null,
       "align_items": null,
       "align_self": null,
       "border": null,
       "bottom": null,
       "display": null,
       "flex": null,
       "flex_flow": null,
       "grid_area": null,
       "grid_auto_columns": null,
       "grid_auto_flow": null,
       "grid_auto_rows": null,
       "grid_column": null,
       "grid_gap": null,
       "grid_row": null,
       "grid_template_areas": null,
       "grid_template_columns": null,
       "grid_template_rows": null,
       "height": null,
       "justify_content": null,
       "justify_items": null,
       "left": null,
       "margin": null,
       "max_height": null,
       "max_width": null,
       "min_height": null,
       "min_width": null,
       "object_fit": null,
       "object_position": null,
       "order": null,
       "overflow": null,
       "overflow_x": null,
       "overflow_y": null,
       "padding": null,
       "right": null,
       "top": null,
       "visibility": null,
       "width": null
      }
     },
     "ed6349f903974b52a4caa10d2928627d": {
      "model_module": "@jupyter-widgets/controls",
      "model_module_version": "1.5.0",
      "model_name": "HBoxModel",
      "state": {
       "_dom_classes": [],
       "_model_module": "@jupyter-widgets/controls",
       "_model_module_version": "1.5.0",
       "_model_name": "HBoxModel",
       "_view_count": null,
       "_view_module": "@jupyter-widgets/controls",
       "_view_module_version": "1.5.0",
       "_view_name": "HBoxView",
       "box_style": "",
       "children": [
        "IPY_MODEL_1e66519049dc4673bf1b4a0a0d5e29c2",
        "IPY_MODEL_239e869dc1b94178975ef6d7d43bdb59",
        "IPY_MODEL_f007988e91694319816243ef53ac5702"
       ],
       "layout": "IPY_MODEL_ce6d962603d1491daaadb483df5d5f05"
      }
     },
     "f007988e91694319816243ef53ac5702": {
      "model_module": "@jupyter-widgets/controls",
      "model_module_version": "1.5.0",
      "model_name": "HTMLModel",
      "state": {
       "_dom_classes": [],
       "_model_module": "@jupyter-widgets/controls",
       "_model_module_version": "1.5.0",
       "_model_name": "HTMLModel",
       "_view_count": null,
       "_view_module": "@jupyter-widgets/controls",
       "_view_module_version": "1.5.0",
       "_view_name": "HTMLView",
       "description": "",
       "description_tooltip": null,
       "layout": "IPY_MODEL_92251d37f85b43298be6dfb1c04004e1",
       "placeholder": "​",
       "style": "IPY_MODEL_86a8049d24bb46319b7d4d0e7c31c961",
       "value": " 43/43 [00:05&lt;00:00,  7.96ba/s]"
      }
     }
    },
    "version_major": 2,
    "version_minor": 0
   }
  }
 },
 "nbformat": 4,
 "nbformat_minor": 5
}