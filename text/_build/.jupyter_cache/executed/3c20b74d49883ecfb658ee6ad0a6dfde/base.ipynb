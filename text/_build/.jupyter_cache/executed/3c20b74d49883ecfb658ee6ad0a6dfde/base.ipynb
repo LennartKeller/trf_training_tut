{
 "cells": [
  {
   "cell_type": "code",
   "execution_count": 1,
   "id": "96e0f121",
   "metadata": {
    "tags": [
     "remove-cell"
    ]
   },
   "outputs": [],
   "source": [
    "from datasets import set_caching_enabled\n",
    "set_caching_enabled(False)\n",
    "\n",
    "# import pprint\n",
    "# pp = pprint.PrettyPrinter(depth=6, compact=True)\n",
    "# print = pp.pprint"
   ]
  },
  {
   "cell_type": "code",
   "execution_count": 2,
   "id": "7fa2cd20",
   "metadata": {},
   "outputs": [
    {
     "name": "stderr",
     "output_type": "stream",
     "text": [
      "Some weights of the model checkpoint at bert-base-cased were not used when initializing BertModel: ['cls.predictions.transform.LayerNorm.bias', 'cls.predictions.transform.dense.bias', 'cls.predictions.transform.dense.weight', 'bert.pooler.dense.weight', 'cls.predictions.bias', 'cls.predictions.transform.LayerNorm.weight', 'cls.predictions.decoder.weight', 'cls.seq_relationship.bias', 'cls.seq_relationship.weight', 'bert.pooler.dense.bias']\n",
      "- This IS expected if you are initializing BertModel from the checkpoint of a model trained on another task or with another architecture (e.g. initializing a BertForSequenceClassification model from a BertForPreTraining model).\n",
      "- This IS NOT expected if you are initializing BertModel from the checkpoint of a model that you expect to be exactly identical (initializing a BertForSequenceClassification model from a BertForSequenceClassification model).\n"
     ]
    },
    {
     "name": "stdout",
     "output_type": "stream",
     "text": [
      "{'text': 'Dictionaries? Everywhere!'}\n",
      "{'input_ids': tensor([[  101, 12120,  5796,  5927,   136,  4081, 15839,   106,   102]]), 'token_type_ids': tensor([[0, 0, 0, 0, 0, 0, 0, 0, 0]]), 'attention_mask': tensor([[1, 1, 1, 1, 1, 1, 1, 1, 1]])}\n",
      "BaseModelOutputWithPoolingAndCrossAttentions(last_hidden_state=tensor([[[ 0.4575,  0.0958, -0.0544,  ..., -0.1948,  0.3481, -0.1724],\n",
      "         [-0.5101, -0.1217,  0.8169,  ...,  0.5608,  0.3777, -0.0601],\n",
      "         [-0.4231,  0.8276, -0.2315,  ..., -0.4748, -0.1374,  0.2291],\n",
      "         ...,\n",
      "         [-0.1184, -0.2610, -0.1218,  ..., -0.1848,  0.1142, -0.5246],\n",
      "         [ 0.5114, -0.0423,  0.2668,  ...,  0.3748,  0.2570, -0.0132],\n",
      "         [ 0.6647,  0.5592, -0.1306,  ..., -0.3199,  0.4948, -1.2197]]],\n",
      "       grad_fn=<NativeLayerNormBackward>), pooler_output=None, hidden_states=None, past_key_values=None, attentions=None, cross_attentions=None)\n",
      "tensor([[[ 0.4575,  0.0958, -0.0544,  ..., -0.1948,  0.3481, -0.1724],\n",
      "         [-0.5101, -0.1217,  0.8169,  ...,  0.5608,  0.3777, -0.0601],\n",
      "         [-0.4231,  0.8276, -0.2315,  ..., -0.4748, -0.1374,  0.2291],\n",
      "         ...,\n",
      "         [-0.1184, -0.2610, -0.1218,  ..., -0.1848,  0.1142, -0.5246],\n",
      "         [ 0.5114, -0.0423,  0.2668,  ...,  0.3748,  0.2570, -0.0132],\n",
      "         [ 0.6647,  0.5592, -0.1306,  ..., -0.3199,  0.4948, -1.2197]]],\n",
      "       grad_fn=<NativeLayerNormBackward>)\n"
     ]
    }
   ],
   "source": [
    "from transformers import AutoTokenizer, AutoModel\n",
    "from datasets import Dataset\n",
    "\n",
    "model = AutoModel.from_pretrained(\"bert-base-cased\", add_pooling_layer=False)\n",
    "tokenizer = AutoTokenizer.from_pretrained(\"bert-base-cased\")\n",
    "\n",
    "dataset = Dataset.from_dict({\"text\": [\"Dictionaries? Everywhere!\"]})\n",
    "\n",
    "data = dataset[0]\n",
    "print(data)\n",
    "\n",
    "inputs = tokenizer(data[\"text\"], return_tensors=\"pt\")\n",
    "print(inputs)\n",
    "outputs = model(**inputs)\n",
    "print(outputs)\n",
    "print(outputs[\"last_hidden_state\"])"
   ]
  },
  {
   "cell_type": "code",
   "execution_count": null,
   "id": "dd9a0547",
   "metadata": {
    "tags": [
     "skip-execution"
    ]
   },
   "outputs": [],
   "source": [
    "...\n",
    "model = create_model()\n",
    "model.to(DEVICE)\n",
    "train_data, val_data = load_data()\n",
    "optimizer = torch.optim.SGD(lr=5e-5, params=model.parameters())\n",
    "for train_step, batch in enumerate(train_data):\n",
    "    model.train()\n",
    "    input_data, targets = batch\n",
    "    input_data = input_data.to(DEVICE)\n",
    "    targets = targets.to(DEVICE)\n",
    "    outputs = model(input_data)\n",
    "    loss = loss_function(outputs, targets)\n",
    "    \n",
    "    # Compute gradients w.r.t the input data\n",
    "    loss.backward() \n",
    "    # Update the parameters of the model\n",
    "    optimizer.step() \n",
    "    # Clear the gradients before next step\n",
    "    optimizer.zero_grad()\n",
    "\n",
    "    train_log(train_step, loss)\n",
    "\n",
    "    # Validate the performance of the model every 100 train steps\n",
    "    if train_step % 100 == 0:\n",
    "        model.eval()\n",
    "        for val_step, batch in enumerate(val_data):\n",
    "                input_data, targets = batch\n",
    "                input_data = input_data.to(DEVICE)\n",
    "                targets = targets.to(DEVICE)\n",
    "            with torch.no_grad():\n",
    "                outputs = model(input_data)\n",
    "                val_loss = loss_function(outputs, targets).detach().cpu()\n",
    "                # Compute other val metrics (i.e. accuracy)\n",
    "                val_score = other_metric(outputs, targets)\n",
    "                \n",
    "                val_log(val_step, val_loss, val_loss)\n",
    "..."
   ]
  }
 ],
 "metadata": {
  "jupytext": {
   "text_representation": {
    "extension": ".md",
    "format_name": "myst",
    "format_version": 0.13,
    "jupytext_version": "1.10.3"
   }
  },
  "kernelspec": {
   "display_name": "Python 3 (ipykernel)",
   "language": "python",
   "name": "python3"
  },
  "language_info": {
   "codemirror_mode": {
    "name": "ipython",
    "version": 3
   },
   "file_extension": ".py",
   "mimetype": "text/x-python",
   "name": "python",
   "nbconvert_exporter": "python",
   "pygments_lexer": "ipython3",
   "version": "3.9.7"
  },
  "source_map": [
   14,
   23,
   56,
   73,
   83,
   122
  ]
 },
 "nbformat": 4,
 "nbformat_minor": 5
}