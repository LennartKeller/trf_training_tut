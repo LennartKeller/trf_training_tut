{
 "cells": [
  {
   "cell_type": "code",
   "execution_count": 1,
   "id": "df1a8e5b",
   "metadata": {},
   "outputs": [
    {
     "name": "stdout",
     "output_type": "stream",
     "text": [
      "usage: ipykernel_launcher.py [-h] [--batch_size BATCH_SIZE]\n",
      "\n",
      "optional arguments:\n",
      "  -h, --help            show this help message and exit\n",
      "  --batch_size BATCH_SIZE\n",
      "                        Number of batched for training. (default: 8)\n",
      "(TrainArgs(batch_size=4),)\n"
     ]
    }
   ],
   "source": [
    "from dataclasses import dataclass, field\n",
    "from transformers import HfArgumentParser\n",
    "\n",
    "@dataclass\n",
    "class TrainArgs:\n",
    "    batch_size: int = field(\n",
    "        default = 8,\n",
    "        metadata = {\"help\": \"Number of batched for training.\"}\n",
    "    )\n",
    "\n",
    "parser = HfArgumentParser(TrainArgs)\n",
    "parser.print_help()\n",
    "train_args = parser.parse_args_into_dataclasses([\"--batch_size\", \"4\"])\n",
    "print(train_args)"
   ]
  },
  {
   "cell_type": "code",
   "execution_count": null,
   "id": "11c547fc",
   "metadata": {
    "tags": [
     "skip-execution"
    ]
   },
   "outputs": [],
   "source": [
    "class SentenceOrderingTrainer(Trainer):\n",
    "    def __init__(self, *args, **kwargs):\n",
    "        self.target_token_id = kwargs.pop(\"target_token_id\")\n",
    "        super().__init__(*args, **kwargs)\n",
    "\n",
    "    def compute_loss(self, model, inputs, return_outputs=False):\n",
    "\n",
    "        # Get sentence indices\n",
    "        batch_labels = inputs.pop(\"labels\")\n",
    "\n",
    "        # Get logits from model\n",
    "        outputs = model(**inputs)\n",
    "        batch_logits = outputs[\"logits\"]\n",
    "\n",
    "        # Get logits for all cls tokens\n",
    "        batch_input_ids = inputs[\"input_ids\"]\n",
    "\n",
    "        loss_fn = nn.MSELoss(reduction=\"sum\")\n",
    "        batch_loss = torch.tensor(0.0, dtype=torch.float64, requires_grad=True)\n",
    "        \n",
    "        for labels, logits, input_ids in zip(\n",
    "            batch_labels, batch_logits, batch_input_ids\n",
    "        ):\n",
    "\n",
    "            true_labels = labels[labels != -100].reshape(-1)\n",
    "            targets = true_labels.float()\n",
    "\n",
    "            target_logits = logits[input_ids == self.target_token_id].reshape(-1)\n",
    "\n",
    "            if target_logits.size(0) < targets.size(0):\n",
    "                targets = targets[: target_logits.size(0)]\n",
    "\n",
    "            batch_loss = batch_loss + loss_fn(targets, target_logits)\n",
    "\n",
    "        loss = batch_loss / batch_logits.size(0)\n",
    "\n",
    "        outputs[\"loss\"] = loss\n",
    "        return (loss, outputs) if return_outputs else loss"
   ]
  },
  {
   "cell_type": "code",
   "execution_count": null,
   "id": "c3287b72",
   "metadata": {
    "tags": [
     "skip-execution"
    ]
   },
   "outputs": [],
   "source": [
    "training_args = TrainingArguments(\n",
    "    ...,\n",
    "    label_names=[\"labels\", \"input_ids\"],\n",
    "    ...,\n",
    ")"
   ]
  },
  {
   "cell_type": "code",
   "execution_count": null,
   "id": "fe883a7d",
   "metadata": {
    "tags": [
     "skip-execution"
    ]
   },
   "outputs": [],
   "source": [
    "def make_compute_metrics_func(target_token_id) -> Callable:\n",
    "    def compute_ranking_func(eval_prediction: EvalPrediction) -> Dict[str, float]:\n",
    "        batch_sent_idx, batch_input_ids = eval_prediction.label_ids\n",
    "        batch_logits = eval_prediction.predictions.squeeze(2)\n",
    "\n",
    "        metrics = defaultdict(list)\n",
    "        for sent_idx, input_ids, logits in zip(\n",
    "            batch_sent_idx, batch_input_ids, batch_logits\n",
    "        ):\n",
    "            sent_idx = sent_idx.reshape(-1)\n",
    "            input_ids = input_ids.reshape(-1)\n",
    "            logits = logits.reshape(-1)\n",
    "\n",
    "            sent_idx = sent_idx[sent_idx != 100]\n",
    "            target_logits = logits[input_ids == target_token_id]\n",
    "            if sent_idx.shape[0] > target_logits.shape[0]:\n",
    "                sent_idx = sent_idx[: target_logits.shape[0]]\n",
    "            predicted_idx = np.argsort(np.argsort(target_logits))\n",
    "            tau, pvalue = kendalltau(sent_idx, predicted_idx)\n",
    "            metrics[\"kendalls_tau\"].append(tau)\n",
    "            metrics[\"acc\"].append(accuracy_score(sent_idx, predicted_idx))\n",
    "            metrics[\"mean_logits\"].append(logits.mean())\n",
    "            metrics[\"std_logits\"].append(logits.std())\n",
    "        metrics = {metric: np.mean(scores) for metric, scores in metrics.items()}\n",
    "        return metrics\n",
    "\n",
    "    return compute_ranking_func"
   ]
  },
  {
   "cell_type": "code",
   "execution_count": null,
   "id": "92e6049b",
   "metadata": {
    "tags": [
     "skip-execution"
    ]
   },
   "outputs": [],
   "source": [
    "from dataclasses import dataclass, field\n",
    "from transformers import TrainingArguments, HfArgumentParser\n",
    "\n",
    "@dataclass\n",
    "class ModelArgs:\n",
    "    model_name_or_path: str = field(\n",
    "        default=\"bert-base-cased\",\n",
    "        metadata={\n",
    "            \"help\": \"Path to pretrained model or model or its name to load it from Huggingface Hub.\"\n",
    "        },\n",
    "    )\n",
    "\n",
    "    final_checkpoint_path: str = field(\n",
    "        default=None, metadata={\"help\": \"Path to save the final model.\"}\n",
    "    )\n",
    "\n",
    "...\n",
    "\n",
    "args_parser = HfArgumentParser((ModelArgs, TrainingArguments))\n",
    "model_args, training_args = args_parser.parse_args_into_dataclasses()"
   ]
  },
  {
   "cell_type": "code",
   "execution_count": null,
   "id": "79840566",
   "metadata": {
    "tags": [
     "skip-execution"
    ]
   },
   "outputs": [],
   "source": [
    "import json\n",
    "from transformers import TrainingArguments, HfArgumentParser\n",
    "from transformers import AutoModelForTokenClassification, AutoConfig, AutoTokenizer\n",
    "from transformers import set_seed\n",
    "from datasets import load_from_disk\n",
    "\n",
    "from model import (\n",
    "    SentenceOrderingTrainer,\n",
    "    so_data_collator,\n",
    "    make_compute_metrics_func,\n",
    "    ModelArgs,\n",
    "    make_tokenization_func,\n",
    ")\n",
    "\n",
    "\n",
    "if __name__ == \"__main__\":\n",
    "\n",
    "    args_parser = HfArgumentParser((ModelArgs, TrainingArguments))\n",
    "    model_args, training_args = args_parser.parse_args_into_dataclasses()\n",
    "\n",
    "    # Add fixed args\n",
    "    training_args.label_names = [\"labels\", \"input_ids\"]\n",
    "\n",
    "    set_seed(training_args.seed)\n",
    "\n",
    "    dataset = load_from_disk(\n",
    "        \"/home/keller/Uni/trf_training_tut/scripts/data/rocstories\"\n",
    "    )\n",
    "\n",
    "    tokenizer = AutoTokenizer.from_pretrained(model_args.model_name_or_path)\n",
    "\n",
    "    if tokenizer.cls_token != \"[CLS]\":\n",
    "        print(\n",
    "            f\"Model does not a have a [CLS] token. Updating the data with token {tokenizer.cls_token} ...\"\n",
    "        )\n",
    "\n",
    "        def replace_cls_token(entry):\n",
    "            texts = entry[\"text\"]\n",
    "            replaced_texts = []\n",
    "            for text in texts:\n",
    "                replaced_texts.append(text.replace(\"[CLS]\", tokenizer.cls_token))\n",
    "            entry[\"text\"] = replaced_texts\n",
    "            return entry\n",
    "\n",
    "        dataset = dataset.map(replace_cls_token, batched=True)\n",
    "\n",
    "    model_config = AutoConfig.from_pretrained(\n",
    "        model_args.model_name_or_path, num_labels=1\n",
    "    )\n",
    "    model = AutoModelForTokenClassification.from_pretrained(\n",
    "        model_args.model_name_or_path, config=model_config\n",
    "    )\n",
    "\n",
    "    tokenization = make_tokenization_func(\n",
    "        tokenizer=tokenizer,\n",
    "        text_column=\"text\",\n",
    "        padding=\"max_length\",\n",
    "        truncation=True,\n",
    "        add_special_tokens=False,\n",
    "    )\n",
    "    dataset = dataset.map(tokenization, batched=True)\n",
    "\n",
    "    dataset = dataset.rename_column(\"so_targets\", \"labels\")\n",
    "\n",
    "    dataset.set_format(\"torch\")\n",
    "\n",
    "    metrics_func = make_compute_metrics_func(tokenizer.cls_token_id)\n",
    "\n",
    "    trainer = SentenceOrderingTrainer(\n",
    "        model=model,\n",
    "        args=training_args,\n",
    "        train_dataset=dataset[\"train\"],\n",
    "        eval_dataset=dataset[\"val\"],\n",
    "        target_token_id=tokenizer.cls_token_id,\n",
    "        data_collator=so_data_collator,\n",
    "        compute_metrics=metrics_func,\n",
    "    )\n",
    "\n",
    "    trainer.train()\n",
    "\n",
    "    trainer.save_model(model_args.final_checkpoint_path)\n",
    "\n",
    "    test_results = trainer.evaluate(eval_dataset=dataset[\"test\"])\n",
    "    with open(f\"test_results_{model_args.model_name_or_path}.json\", \"w\") as f:\n",
    "        json.dump(test_results, f)\n",
    "\n",
    "    print(test_results)"
   ]
  }
 ],
 "metadata": {
  "jupytext": {
   "text_representation": {
    "extension": ".md",
    "format_name": "myst",
    "format_version": 0.13,
    "jupytext_version": "1.10.3"
   }
  },
  "kernelspec": {
   "display_name": "Python 3 (ipykernel)",
   "language": "python",
   "name": "python3"
  },
  "language_info": {
   "codemirror_mode": {
    "name": "ipython",
    "version": 3
   },
   "file_extension": ".py",
   "mimetype": "text/x-python",
   "name": "python",
   "nbconvert_exporter": "python",
   "pygments_lexer": "ipython3",
   "version": "3.9.7"
  },
  "source_map": [
   12,
   81,
   96,
   111,
   151,
   169,
   178,
   207,
   216,
   238,
   250,
   339
  ]
 },
 "nbformat": 4,
 "nbformat_minor": 5
}