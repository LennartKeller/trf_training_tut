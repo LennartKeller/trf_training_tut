{
 "cells": [
  {
   "cell_type": "code",
   "execution_count": 1,
   "id": "8529be47-8781-4f40-85bc-fa64b7e2ba22",
   "metadata": {},
   "outputs": [],
   "source": [
    "import os\n",
    "import torch\n",
    "from transformers import Trainer, TrainingArguments, TrainerCallback\n",
    "from transformers import BertTokenizerFast, BertForTokenClassification\n",
    "from transformers import set_seed\n",
    "from datasets import load_from_disk, load_dataset\n",
    "from torch.nn import functional as F\n",
    "\n",
    "os.environ['CUDA_VISIBLE_DEVICES'] = \"0\"\n",
    "torch.cuda.set_device(0)"
   ]
  },
  {
   "cell_type": "code",
   "execution_count": 10,
   "id": "0a99563e-e4b6-4774-94b0-08cae1a00f3a",
   "metadata": {},
   "outputs": [],
   "source": [
    "model = BertForTokenClassification.from_pretrained('test/checkpoint-18000/')"
   ]
  },
  {
   "cell_type": "code",
   "execution_count": 11,
   "id": "10ec0551-6296-48a0-a0dd-6fa7597838e6",
   "metadata": {},
   "outputs": [],
   "source": [
    "tokenizer = BertTokenizerFast.from_pretrained('bert-base-cased')"
   ]
  },
  {
   "cell_type": "code",
   "execution_count": 12,
   "id": "9c0ef8f1-ef05-4124-b253-f93764e9a716",
   "metadata": {},
   "outputs": [],
   "source": [
    "test_story = \"When he got home he noticed he couldn't get up! He drove and picked up his food. He put the bag in his lap and started to drive home. The sauce had leaked out and made him stuck! Ray wanted to order Chinese food.\""
   ]
  },
  {
   "cell_type": "code",
   "execution_count": 13,
   "id": "5be9d111-c3b7-47ed-9632-7e33d1f320d8",
   "metadata": {},
   "outputs": [
    {
     "name": "stdout",
     "output_type": "stream",
     "text": [
      " [CLS] Ray wanted to order Chinese food. [CLS] The sauce had leaked out and made him stuck! [CLS] He put the bag in his lap and started to drive home. [CLS] He drove and picked up his food. [CLS] When he got home he noticed he couldn't get up!\n"
     ]
    }
   ],
   "source": [
    "from nltk import sent_tokenize\n",
    "sents = sent_tokenize(test_story, language='english')\n",
    "shuffled_sents = sents[::-1]\n",
    "shuffled_text = ' [CLS] '+ ' [CLS] '.join(shuffled_sents)\n",
    "print(shuffled_text)"
   ]
  },
  {
   "cell_type": "code",
   "execution_count": 14,
   "id": "2eb2f352-a0d6-45f4-9bd8-44eb711badc9",
   "metadata": {},
   "outputs": [],
   "source": [
    "inputs = tokenizer(shuffled_text, add_special_tokens=False, return_tensors='pt')"
   ]
  },
  {
   "cell_type": "code",
   "execution_count": 15,
   "id": "7612c958-a56f-4d65-bb7e-197daf97d31d",
   "metadata": {},
   "outputs": [],
   "source": [
    "outputs = model(**inputs)"
   ]
  },
  {
   "cell_type": "code",
   "execution_count": 16,
   "id": "bd57f40c-d435-4bfc-811a-1a8bf8effcb7",
   "metadata": {},
   "outputs": [],
   "source": [
    "logits = outputs['logits']\n",
    "input_ids = inputs['input_ids']"
   ]
  },
  {
   "cell_type": "code",
   "execution_count": 17,
   "id": "e2a0d2ea-3dca-4c7f-b0c3-7d5b7f876082",
   "metadata": {},
   "outputs": [
    {
     "data": {
      "text/plain": [
       "tensor([[2.4028],\n",
       "        [2.4028],\n",
       "        [2.4028],\n",
       "        [2.4028],\n",
       "        [2.4028]], grad_fn=<IndexBackward>)"
      ]
     },
     "execution_count": 17,
     "metadata": {},
     "output_type": "execute_result"
    }
   ],
   "source": [
    "target_logits = logits[input_ids == tokenizer.cls_token_id]\n",
    "target_logits"
   ]
  },
  {
   "cell_type": "code",
   "execution_count": 18,
   "id": "76b8725b-1c32-4d40-81ca-89927e245afb",
   "metadata": {},
   "outputs": [
    {
     "data": {
      "text/plain": [
       "tensor([2, 3, 1, 4, 0])"
      ]
     },
     "execution_count": 18,
     "metadata": {},
     "output_type": "execute_result"
    }
   ],
   "source": [
    "target_logits.reshape(-1).argsort()"
   ]
  },
  {
   "cell_type": "code",
   "execution_count": 62,
   "id": "88b86313-77f4-45d3-ad03-5939a9300fd4",
   "metadata": {},
   "outputs": [
    {
     "ename": "NameError",
     "evalue": "name 'test' is not defined",
     "output_type": "error",
     "traceback": [
      "\u001b[0;31m---------------------------------------------------------------------------\u001b[0m",
      "\u001b[0;31mNameError\u001b[0m                                 Traceback (most recent call last)",
      "\u001b[0;32m/tmp/ipykernel_32268/2074824509.py\u001b[0m in \u001b[0;36m<module>\u001b[0;34m\u001b[0m\n\u001b[0;32m----> 1\u001b[0;31m \u001b[0mtest\u001b[0m\u001b[0;34m\u001b[0m\u001b[0;34m\u001b[0m\u001b[0m\n\u001b[0m",
      "\u001b[0;31mNameError\u001b[0m: name 'test' is not defined"
     ]
    }
   ],
   "source": [
    "test"
   ]
  },
  {
   "cell_type": "code",
   "execution_count": 63,
   "id": "a463c876-ee37-411f-9029-b07978f33292",
   "metadata": {},
   "outputs": [],
   "source": [
    "from datasets import load_from_disk"
   ]
  },
  {
   "cell_type": "code",
   "execution_count": 70,
   "id": "2ccf2b21-dcc4-49c9-8c0f-c8c6c6d977ca",
   "metadata": {},
   "outputs": [],
   "source": [
    "dataset = load_from_disk('../data/rocstories/')"
   ]
  },
  {
   "cell_type": "code",
   "execution_count": 72,
   "id": "c56a4512-5f4c-45d0-9662-ede3dc20e379",
   "metadata": {},
   "outputs": [
    {
     "data": {
      "text/plain": [
       "Dataset({\n",
       "    features: ['sentence1', 'sentence2', 'sentence3', 'sentence4', 'sentence5', 'so_targets', 'storyid', 'storytitle', 'text'],\n",
       "    num_rows: 3\n",
       "})"
      ]
     },
     "execution_count": 72,
     "metadata": {},
     "output_type": "execute_result"
    }
   ],
   "source": [
    "dataset['val']"
   ]
  },
  {
   "cell_type": "code",
   "execution_count": 67,
   "id": "6ba3f82e-530d-45fc-90ab-d61c108d4cab",
   "metadata": {},
   "outputs": [
    {
     "data": {
      "text/plain": [
       "['__class__',\n",
       " '__del__',\n",
       " '__delattr__',\n",
       " '__dict__',\n",
       " '__dir__',\n",
       " '__doc__',\n",
       " '__enter__',\n",
       " '__eq__',\n",
       " '__exit__',\n",
       " '__format__',\n",
       " '__ge__',\n",
       " '__getattribute__',\n",
       " '__getitem__',\n",
       " '__gt__',\n",
       " '__hash__',\n",
       " '__init__',\n",
       " '__init_subclass__',\n",
       " '__iter__',\n",
       " '__le__',\n",
       " '__len__',\n",
       " '__lt__',\n",
       " '__module__',\n",
       " '__ne__',\n",
       " '__new__',\n",
       " '__reduce__',\n",
       " '__reduce_ex__',\n",
       " '__repr__',\n",
       " '__setattr__',\n",
       " '__sizeof__',\n",
       " '__str__',\n",
       " '__subclasshook__',\n",
       " '__weakref__',\n",
       " '_check_index_is_initialized',\n",
       " '_data',\n",
       " '_fingerprint',\n",
       " '_format_columns',\n",
       " '_format_kwargs',\n",
       " '_format_type',\n",
       " '_get_cache_file_path',\n",
       " '_getitem',\n",
       " '_indexes',\n",
       " '_indices',\n",
       " '_info',\n",
       " '_map_single',\n",
       " '_new_dataset_with_indices',\n",
       " '_output_all_columns',\n",
       " '_split',\n",
       " 'add_column',\n",
       " 'add_elasticsearch_index',\n",
       " 'add_faiss_index',\n",
       " 'add_faiss_index_from_external_arrays',\n",
       " 'add_item',\n",
       " 'align_labels_with_mapping',\n",
       " 'builder_name',\n",
       " 'cache_files',\n",
       " 'cast',\n",
       " 'cast_',\n",
       " 'citation',\n",
       " 'class_encode_column',\n",
       " 'cleanup_cache_files',\n",
       " 'column_names',\n",
       " 'config_name',\n",
       " 'data',\n",
       " 'dataset_size',\n",
       " 'description',\n",
       " 'dictionary_encode_column_',\n",
       " 'download_checksums',\n",
       " 'download_size',\n",
       " 'drop_index',\n",
       " 'export',\n",
       " 'features',\n",
       " 'filter',\n",
       " 'flatten',\n",
       " 'flatten_',\n",
       " 'flatten_indices',\n",
       " 'format',\n",
       " 'formatted_as',\n",
       " 'from_buffer',\n",
       " 'from_csv',\n",
       " 'from_dict',\n",
       " 'from_file',\n",
       " 'from_json',\n",
       " 'from_pandas',\n",
       " 'from_parquet',\n",
       " 'from_text',\n",
       " 'get_index',\n",
       " 'get_nearest_examples',\n",
       " 'get_nearest_examples_batch',\n",
       " 'homepage',\n",
       " 'info',\n",
       " 'is_index_initialized',\n",
       " 'license',\n",
       " 'list_indexes',\n",
       " 'load_elasticsearch_index',\n",
       " 'load_faiss_index',\n",
       " 'load_from_disk',\n",
       " 'map',\n",
       " 'num_columns',\n",
       " 'num_rows',\n",
       " 'prepare_for_task',\n",
       " 'remove_columns',\n",
       " 'remove_columns_',\n",
       " 'rename_column',\n",
       " 'rename_column_',\n",
       " 'rename_columns',\n",
       " 'reset_format',\n",
       " 'save_faiss_index',\n",
       " 'save_to_disk',\n",
       " 'search',\n",
       " 'search_batch',\n",
       " 'select',\n",
       " 'set_format',\n",
       " 'set_transform',\n",
       " 'shape',\n",
       " 'shard',\n",
       " 'shuffle',\n",
       " 'size_in_bytes',\n",
       " 'sort',\n",
       " 'split',\n",
       " 'supervised_keys',\n",
       " 'to_csv',\n",
       " 'to_dict',\n",
       " 'to_json',\n",
       " 'to_pandas',\n",
       " 'to_parquet',\n",
       " 'train_test_split',\n",
       " 'unique',\n",
       " 'version',\n",
       " 'with_format',\n",
       " 'with_transform']"
      ]
     },
     "execution_count": 67,
     "metadata": {},
     "output_type": "execute_result"
    }
   ],
   "source": [
    "dir(dataset['val'])"
   ]
  },
  {
   "cell_type": "code",
   "execution_count": 83,
   "id": "d77ab5dd-d124-4d1d-bada-9ee815f76646",
   "metadata": {},
   "outputs": [
    {
     "data": {
      "text/plain": [
       "((3, 5), (3, 512, 1))"
      ]
     },
     "execution_count": 83,
     "metadata": {},
     "output_type": "execute_result"
    }
   ],
   "source": [
    "import numpy as np\n",
    "\n",
    "sent_idx = np.array([\n",
    "    [0, 2, 3, -100, -100],\n",
    "    [1, 0, -100, -100, -100],\n",
    "    [0, 2, 3, 4, -100],\n",
    "])\n",
    "logits = np.random.randn(3, 512, 1)\n",
    "sent_idx.shape, logits.shape"
   ]
  },
  {
   "cell_type": "code",
   "execution_count": 80,
   "id": "6b5b717f-a0cb-4003-8e06-2b638b96ca7b",
   "metadata": {},
   "outputs": [
    {
     "data": {
      "text/plain": [
       "(3, 512)"
      ]
     },
     "execution_count": 80,
     "metadata": {},
     "output_type": "execute_result"
    }
   ],
   "source": [
    ".shape"
   ]
  },
  {
   "cell_type": "code",
   "execution_count": 82,
   "id": "ac0f56d4-d38f-4aa5-b74a-1c0481fa322a",
   "metadata": {},
   "outputs": [
    {
     "data": {
      "text/plain": [
       "array([0, 2, 3, 1, 0, 0, 2, 3, 4])"
      ]
     },
     "execution_count": 82,
     "metadata": {},
     "output_type": "execute_result"
    }
   ],
   "source": [
    "sent_idx[sent_idx != -100]"
   ]
  },
  {
   "cell_type": "code",
   "execution_count": 77,
   "id": "3e495088-df07-4564-b74e-ea995fe77421",
   "metadata": {},
   "outputs": [],
   "source": []
  },
  {
   "cell_type": "code",
   "execution_count": 34,
   "id": "c43b15bd-dc2a-4bba-a1c7-a62db42896eb",
   "metadata": {},
   "outputs": [
    {
     "data": {
      "text/plain": [
       "tensor(0.6250)"
      ]
     },
     "execution_count": 34,
     "metadata": {},
     "output_type": "execute_result"
    }
   ],
   "source": [
    "from torch import nn\n",
    "loss = nn.MSELoss(reduction='mean')\n",
    "loss(torch.tensor([1.0, 1.5]), torch.tensor([0.0, 2.0]))"
   ]
  },
  {
   "cell_type": "code",
   "execution_count": 32,
   "id": "3f6fd0e4-2045-46d1-bcd4-123de3b97547",
   "metadata": {},
   "outputs": [
    {
     "data": {
      "text/plain": [
       "tensor([1.0000, 0.2500])"
      ]
     },
     "execution_count": 32,
     "metadata": {},
     "output_type": "execute_result"
    }
   ],
   "source": [
    "loss(torch.tensor([[1.0], [1.5]]), torch.tensor([[0.0], [2.0]])).reshape(-1)"
   ]
  },
  {
   "cell_type": "code",
   "execution_count": null,
   "id": "358e39cf-c5cf-4941-ad48-c119767537bc",
   "metadata": {},
   "outputs": [],
   "source": []
  },
  {
   "cell_type": "code",
   "execution_count": 38,
   "id": "b78d0bcc-bdb3-49b1-a212-0b0ea1ba2609",
   "metadata": {},
   "outputs": [
    {
     "data": {
      "text/plain": [
       "tensor([[0, 1, 2],\n",
       "        [3, 4, 5]])"
      ]
     },
     "execution_count": 38,
     "metadata": {},
     "output_type": "execute_result"
    }
   ],
   "source": [
    "test = torch.arange(6).reshape(2, 3)\n",
    "test"
   ]
  },
  {
   "cell_type": "code",
   "execution_count": 39,
   "id": "dc15dfcc-1658-4800-95a5-0d53ebb1c928",
   "metadata": {},
   "outputs": [
    {
     "data": {
      "text/plain": [
       "tensor([3, 5, 7])"
      ]
     },
     "execution_count": 39,
     "metadata": {},
     "output_type": "execute_result"
    }
   ],
   "source": [
    "test.sum(axis=0)"
   ]
  },
  {
   "cell_type": "code",
   "execution_count": 46,
   "id": "279545eb-3d55-4b41-a7d5-78aed83501c4",
   "metadata": {},
   "outputs": [
    {
     "data": {
      "text/plain": [
       "torch.Size([3, 1, 1])"
      ]
     },
     "execution_count": 46,
     "metadata": {},
     "output_type": "execute_result"
    }
   ],
   "source": [
    "torch.tensor([[0], [1], [2]]).reshape(-1, 1, 1).shape"
   ]
  },
  {
   "cell_type": "code",
   "execution_count": null,
   "id": "c669f00b-7975-4f43-b17d-7f4e2cd06a0e",
   "metadata": {},
   "outputs": [],
   "source": []
  }
 ],
 "metadata": {
  "kernelspec": {
   "display_name": "Python 3 (ipykernel)",
   "language": "python",
   "name": "python3"
  },
  "language_info": {
   "codemirror_mode": {
    "name": "ipython",
    "version": 3
   },
   "file_extension": ".py",
   "mimetype": "text/x-python",
   "name": "python",
   "nbconvert_exporter": "python",
   "pygments_lexer": "ipython3",
   "version": "3.9.6"
  }
 },
 "nbformat": 4,
 "nbformat_minor": 5
}
