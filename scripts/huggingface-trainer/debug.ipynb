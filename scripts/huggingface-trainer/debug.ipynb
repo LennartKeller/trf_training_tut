{
 "cells": [
  {
   "cell_type": "code",
   "execution_count": 14,
   "id": "18f0fe83-e75f-4ecf-996e-037394866fda",
   "metadata": {},
   "outputs": [
    {
     "name": "stdout",
     "output_type": "stream",
     "text": [
      "usage: ipykernel_launcher.py [-h] [--batch_size BATCH_SIZE]\n",
      "\n",
      "optional arguments:\n",
      "  -h, --help            show this help message and exit\n",
      "  --batch_size BATCH_SIZE\n",
      "                        Number of batched for training. (default: 8)\n",
      "(TrainArgs(batch_size=4),)\n"
     ]
    }
   ],
   "source": [
    "from dataclasses import dataclass, field\n",
    "from transformers import HfArgumentParser\n",
    "\n",
    "\n",
    "@dataclass\n",
    "class TrainArgs:\n",
    "    batch_size: int = field(\n",
    "        default=8, metadata={\"help\": \"Number of batched for training.\"}\n",
    "    )\n",
    "\n",
    "\n",
    "parser = HfArgumentParser(TrainArgs)\n",
    "parser.print_help()\n",
    "# In the real world the .parse_args... method would be called with arguments\n",
    "# to parse data from the commandline.\n",
    "train_args = parser.parse_args_into_dataclasses([\"--batch_size\", \"4\"])\n",
    "print(train_args)"
   ]
  },
  {
   "cell_type": "code",
   "execution_count": 9,
   "id": "ba389bb2-5555-47c6-b83a-e38f5aaa8a81",
   "metadata": {},
   "outputs": [
    {
     "name": "stdout",
     "output_type": "stream",
     "text": [
      "usage: ipykernel_launcher.py [-h] [--batch_size BATCH_SIZE]\n",
      "\n",
      "optional arguments:\n",
      "  -h, --help            show this help message and exit\n",
      "  --batch_size BATCH_SIZE\n",
      "                        Number of batched for training. (default: 8)\n"
     ]
    }
   ],
   "source": []
  },
  {
   "cell_type": "code",
   "execution_count": null,
   "id": "f0539acf-fe38-437b-af11-4982930882b7",
   "metadata": {},
   "outputs": [],
   "source": []
  }
 ],
 "metadata": {
  "kernelspec": {
   "display_name": "Python 3 (ipykernel)",
   "language": "python",
   "name": "python3"
  },
  "language_info": {
   "codemirror_mode": {
    "name": "ipython",
    "version": 3
   },
   "file_extension": ".py",
   "mimetype": "text/x-python",
   "name": "python",
   "nbconvert_exporter": "python",
   "pygments_lexer": "ipython3",
   "version": "3.9.6"
  }
 },
 "nbformat": 4,
 "nbformat_minor": 5
}
