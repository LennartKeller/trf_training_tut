{
 "cells": [
  {
   "cell_type": "code",
   "execution_count": 14,
   "id": "18f0fe83-e75f-4ecf-996e-037394866fda",
   "metadata": {},
   "outputs": [
    {
     "name": "stdout",
     "output_type": "stream",
     "text": [
      "usage: ipykernel_launcher.py [-h] [--batch_size BATCH_SIZE]\n",
      "\n",
      "optional arguments:\n",
      "  -h, --help            show this help message and exit\n",
      "  --batch_size BATCH_SIZE\n",
      "                        Number of batched for training. (default: 8)\n",
      "(TrainArgs(batch_size=4),)\n"
     ]
    }
   ],
   "source": [
    "from dataclasses import dataclass, field\n",
    "from transformers import HfArgumentParser\n",
    "\n",
    "\n",
    "@dataclass\n",
    "class TrainArgs:\n",
    "    batch_size: int = field(\n",
    "        default=8, metadata={\"help\": \"Number of batched for training.\"}\n",
    "    )\n",
    "\n",
    "\n",
    "parser = HfArgumentParser(TrainArgs)\n",
    "parser.print_help()\n",
    "# In the real world the .parse_args... method would be called with arguments\n",
    "# to parse data from the commandline.\n",
    "train_args = parser.parse_args_into_dataclasses([\"--batch_size\", \"4\"])\n",
    "print(train_args)"
   ]
  },
  {
   "cell_type": "code",
   "execution_count": 9,
   "id": "ba389bb2-5555-47c6-b83a-e38f5aaa8a81",
   "metadata": {},
   "outputs": [
    {
     "name": "stdout",
     "output_type": "stream",
     "text": [
      "usage: ipykernel_launcher.py [-h] [--batch_size BATCH_SIZE]\n",
      "\n",
      "optional arguments:\n",
      "  -h, --help            show this help message and exit\n",
      "  --batch_size BATCH_SIZE\n",
      "                        Number of batched for training. (default: 8)\n"
     ]
    }
   ],
   "source": []
  },
  {
   "cell_type": "code",
   "execution_count": 1,
   "id": "f0539acf-fe38-437b-af11-4982930882b7",
   "metadata": {},
   "outputs": [],
   "source": [
    "from transformers import TrainingArguments"
   ]
  },
  {
   "cell_type": "code",
   "execution_count": 3,
   "id": "f2b8b948-614d-4d1d-b5bd-bc12b780c5bd",
   "metadata": {},
   "outputs": [],
   "source": [
    "args = TrainingArguments(output_dir=\"bvla\")"
   ]
  },
  {
   "cell_type": "code",
   "execution_count": null,
   "id": "e02e8337-5f00-4c4a-b871-b135f94fa7f6",
   "metadata": {},
   "outputs": [],
   "source": [
    "args.to_json_string"
   ]
  }
 ],
 "metadata": {
  "kernelspec": {
   "display_name": "Python [conda env:transformers]",
   "language": "python",
   "name": "conda-env-transformers-py"
  },
  "language_info": {
   "codemirror_mode": {
    "name": "ipython",
    "version": 3
   },
   "file_extension": ".py",
   "mimetype": "text/x-python",
   "name": "python",
   "nbconvert_exporter": "python",
   "pygments_lexer": "ipython3",
   "version": "3.9.7"
  }
 },
 "nbformat": 4,
 "nbformat_minor": 5
}
