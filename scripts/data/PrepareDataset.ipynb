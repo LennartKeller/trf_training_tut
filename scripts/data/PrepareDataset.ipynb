{
 "cells": [
  {
   "cell_type": "code",
   "execution_count": 9,
   "id": "b6c668c4-4276-40cb-b0da-04a4749bb0fa",
   "metadata": {},
   "outputs": [],
   "source": [
    "import pandas as pd"
   ]
  },
  {
   "cell_type": "code",
   "execution_count": 10,
   "id": "57684a70-9804-4459-9396-475e67bd24de",
   "metadata": {},
   "outputs": [],
   "source": [
    "df = pd.read_csv(\"subtitle_dataset.csv\")"
   ]
  },
  {
   "cell_type": "code",
   "execution_count": 11,
   "id": "70cb14a3-60f2-4668-8b2b-7ac96a242626",
   "metadata": {},
   "outputs": [],
   "source": [
    "df = df.drop(\n",
    "    [\n",
    "        \"production_region\",\n",
    "        \"corpus\",\n",
    "        \"directors\",\n",
    "        \"writers\",\n",
    "        \"originalTitle\",\n",
    "        \"startYear\",\n",
    "        \"endYear\",\n",
    "        \"Unnamed: 0\",\n",
    "        \"filename\",\n",
    "    ],\n",
    "    axis=1,\n",
    ")\n",
    "df = df.dropna()\n",
    "df = df.drop_duplicates(subset=[\"IMDB_ID\"])\n",
    "df = df.query(\"year != 1191\")\n",
    "df = df.query(\n",
    "    'titleType == \"movie\" or titleType == \"tvEpisode\" or titleType ==\"tvMovie\"'\n",
    ")"
   ]
  },
  {
   "cell_type": "code",
   "execution_count": 12,
   "id": "0777bd70-385b-46b3-89b7-8e1c2663a8a3",
   "metadata": {},
   "outputs": [],
   "source": [
    "mask = df.titleType == \"tvMovie\"\n",
    "df.titleType.mask(mask, \"movie\", inplace=True)"
   ]
  },
  {
   "cell_type": "code",
   "execution_count": 14,
   "id": "9b7def64-c089-413f-9d2b-47ede4a3b094",
   "metadata": {},
   "outputs": [],
   "source": [
    "df.genre = df.genre.apply(\n",
    "    lambda entry: [label for label in entry.split(\",\") if label != \"Drama\"]\n",
    ")"
   ]
  },
  {
   "cell_type": "code",
   "execution_count": 15,
   "id": "08dd3a32-51ec-45c9-9b8e-082e4dd83583",
   "metadata": {},
   "outputs": [],
   "source": [
    "from string import punctuation\n",
    "\n",
    "\n",
    "def restore_punctuation(text):\n",
    "    puncutation_marks = set(punctuation)\n",
    "    new_seq = [\" \", \" \"]\n",
    "    for char in text:\n",
    "        if (\n",
    "            char in puncutation_marks\n",
    "            and new_seq[-1].isspace()\n",
    "            and new_seq[-2] not in puncutation_marks\n",
    "        ):\n",
    "            new_seq[-1] = char\n",
    "        else:\n",
    "            new_seq.append(char)\n",
    "    new_text = \"\".join(new_seq).strip()\n",
    "    new_text = new_text.replace(\"( \", \"(\")\n",
    "    new_text = new_text.replace(\"'\", \"'\")\n",
    "    return new_text"
   ]
  },
  {
   "cell_type": "code",
   "execution_count": 16,
   "id": "03d03f3b-eecd-4476-a0c2-ea4242f62576",
   "metadata": {},
   "outputs": [],
   "source": [
    "df.text = df.text.apply(restore_punctuation)"
   ]
  },
  {
   "cell_type": "code",
   "execution_count": 17,
   "id": "0fd98e2b-271a-4037-97a9-2c52e8c14439",
   "metadata": {},
   "outputs": [
    {
     "name": "stdout",
     "output_type": "stream",
     "text": [
      "Walt Disney präsentiert aus dem Frontier-Land: ZORRO DER BANDIT In den Hauptrollen: GUY WILLIAMS und GILBERT ROLAND Als Fremder in Kalifornien habt Ihr das Recht, ein Mal verwarnt zu werden. Was ich hiermit tue. Und jetzt nimm deine Männer und verschwinde aus Kalifornien, Cuchillo. Also dann, Zorro! Und nun kommt Ihr Disneyland-Gastgeber Walt Disney. Die meisten von uns verbinden die frühen Tage von Kalifornien mit der Zeit, als es als Republik unter dieser Flagge stand, bevor es 1850 Teil der USA wurde. Und mit Sutter' s Mill in der Nähe von Sacramento, wo 1849 Gold gefunden wurde. Aber noch ein halbes Jahrhundert vor der aufregenden Zeit des Goldrausches war Kalifornien das sonnige Land der spanischen Dons. Es war eine romantische Zeit des geruhsamen und vornehmen Lebens, aber auch der Gesetzlosigkeit. Eine Zeit, in der Kaliforniens Isolation von Recht und Ordnung im Rest der Welt eine offene Einladung an Gewaltverbrecher und Banditen war. Es gibt aber auch Geschichten über einen legendären Helden jener Tage. Über einen eleganten jungen Mann, der tagsüber den fröhlichen Lebemann mimte, aber nachts das hier trug, um als Verfechter des Rechts und Beschützer der Unterdrückten durchs Land zu reiten. Er wurde von seinen Gegnern gehasst und gefürchtet, von jenen, die er verteidigte, verehrt und respektiert, und alle nannten ihn Zorro. Jetzt werdet ihr eines seiner spannenden Abenteuer sehen. Es heißt\" EL BANDIDO\" . Soldaten! Drei, vier fünf, sechs sieben... - ... acht, neun... El Cuchillo, es hört gar nicht mehr auf. - Ein rundes Dutzend. Auf geht' s, Muchachos! Nimm mich mit! Schuft! Heiliger Chihuahua! Ich habe gehört, dass Kalifornien reich sein soll. Darauf haben wir gewartet. Wenn wir es klug anstellen, können wir als reiche Männer nach Mexiko zurückkehren. Als euer neuer Anführer verspreche ich euch mehr Gold, als ihr tragen könnt. - Und wohin tragen sie' s? Die Stufen zum Galgen hoch? - El Cuchillo! Und Chato! Chato, du hast neun Leben! - Die hat El Cuchillo! Ich\n"
     ]
    }
   ],
   "source": [
    "print(df.text.iloc[1][:2000])"
   ]
  },
  {
   "cell_type": "code",
   "execution_count": 18,
   "id": "46c06ac0-a67a-438a-8e45-fb7b241b5315",
   "metadata": {},
   "outputs": [
    {
     "data": {
      "text/plain": [
       "(15613, 11)"
      ]
     },
     "execution_count": 18,
     "metadata": {},
     "output_type": "execute_result"
    }
   ],
   "source": [
    "df.shape"
   ]
  },
  {
   "cell_type": "code",
   "execution_count": 19,
   "id": "4bb79376-64c4-4c12-8b29-b4c8a5c18d0f",
   "metadata": {},
   "outputs": [
    {
     "data": {
      "text/html": [
       "<div>\n",
       "<style scoped>\n",
       "    .dataframe tbody tr th:only-of-type {\n",
       "        vertical-align: middle;\n",
       "    }\n",
       "\n",
       "    .dataframe tbody tr th {\n",
       "        vertical-align: top;\n",
       "    }\n",
       "\n",
       "    .dataframe thead th {\n",
       "        text-align: right;\n",
       "    }\n",
       "</style>\n",
       "<table border=\"1\" class=\"dataframe\">\n",
       "  <thead>\n",
       "    <tr style=\"text-align: right;\">\n",
       "      <th></th>\n",
       "      <th>text</th>\n",
       "      <th>IMDB_ID</th>\n",
       "      <th>genre</th>\n",
       "      <th>year</th>\n",
       "      <th>duration</th>\n",
       "      <th>titleType</th>\n",
       "      <th>primaryTitle</th>\n",
       "      <th>isAdult</th>\n",
       "      <th>runtimeMinutes</th>\n",
       "      <th>averageRating</th>\n",
       "      <th>numVotes</th>\n",
       "    </tr>\n",
       "  </thead>\n",
       "  <tbody>\n",
       "    <tr>\n",
       "      <th>16</th>\n",
       "      <td>Der Roman von Alexandre Dumas dem Älteren hatt...</td>\n",
       "      <td>tt1104767</td>\n",
       "      <td>[Adventure, History]</td>\n",
       "      <td>1943.0</td>\n",
       "      <td>90.0</td>\n",
       "      <td>movie</td>\n",
       "      <td>The Count of Monte Cristo - Part 2: Retribution</td>\n",
       "      <td>0.0</td>\n",
       "      <td>90.0</td>\n",
       "      <td>7.0</td>\n",
       "      <td>80.0</td>\n",
       "    </tr>\n",
       "    <tr>\n",
       "      <th>17</th>\n",
       "      <td>Walt Disney präsentiert aus dem Frontier-Land:...</td>\n",
       "      <td>tt1041393</td>\n",
       "      <td>[Action, Adventure, Comedy]</td>\n",
       "      <td>1960.0</td>\n",
       "      <td>51.0</td>\n",
       "      <td>tvEpisode</td>\n",
       "      <td>El Bandido</td>\n",
       "      <td>0.0</td>\n",
       "      <td>51.0</td>\n",
       "      <td>7.7</td>\n",
       "      <td>26.0</td>\n",
       "    </tr>\n",
       "    <tr>\n",
       "      <th>19</th>\n",
       "      <td>Walt Disney präsentiert aus dem Frontier-Land:...</td>\n",
       "      <td>tt1041444</td>\n",
       "      <td>[Action, Adventure, Comedy]</td>\n",
       "      <td>1960.0</td>\n",
       "      <td>49.0</td>\n",
       "      <td>tvEpisode</td>\n",
       "      <td>Adios, El Cuchillo</td>\n",
       "      <td>0.0</td>\n",
       "      <td>49.0</td>\n",
       "      <td>7.5</td>\n",
       "      <td>26.0</td>\n",
       "    </tr>\n",
       "    <tr>\n",
       "      <th>21</th>\n",
       "      <td>Gaslicht(1960) dTV- Bayerisches FS- 26. August...</td>\n",
       "      <td>tt1213061</td>\n",
       "      <td>[Thriller]</td>\n",
       "      <td>1960.0</td>\n",
       "      <td>90.0</td>\n",
       "      <td>movie</td>\n",
       "      <td>Gaslicht</td>\n",
       "      <td>0.0</td>\n",
       "      <td>90.0</td>\n",
       "      <td>8.2</td>\n",
       "      <td>30.0</td>\n",
       "    </tr>\n",
       "    <tr>\n",
       "      <th>23</th>\n",
       "      <td>Walt Disney präsentiert aus dem Frontier-Land:...</td>\n",
       "      <td>tt1041392</td>\n",
       "      <td>[Action, Adventure, Comedy]</td>\n",
       "      <td>1961.0</td>\n",
       "      <td>49.0</td>\n",
       "      <td>tvEpisode</td>\n",
       "      <td>Auld Acquaintance</td>\n",
       "      <td>0.0</td>\n",
       "      <td>49.0</td>\n",
       "      <td>7.7</td>\n",
       "      <td>31.0</td>\n",
       "    </tr>\n",
       "  </tbody>\n",
       "</table>\n",
       "</div>"
      ],
      "text/plain": [
       "                                                 text    IMDB_ID  \\\n",
       "16  Der Roman von Alexandre Dumas dem Älteren hatt...  tt1104767   \n",
       "17  Walt Disney präsentiert aus dem Frontier-Land:...  tt1041393   \n",
       "19  Walt Disney präsentiert aus dem Frontier-Land:...  tt1041444   \n",
       "21  Gaslicht(1960) dTV- Bayerisches FS- 26. August...  tt1213061   \n",
       "23  Walt Disney präsentiert aus dem Frontier-Land:...  tt1041392   \n",
       "\n",
       "                          genre    year  duration  titleType  \\\n",
       "16         [Adventure, History]  1943.0      90.0      movie   \n",
       "17  [Action, Adventure, Comedy]  1960.0      51.0  tvEpisode   \n",
       "19  [Action, Adventure, Comedy]  1960.0      49.0  tvEpisode   \n",
       "21                   [Thriller]  1960.0      90.0      movie   \n",
       "23  [Action, Adventure, Comedy]  1961.0      49.0  tvEpisode   \n",
       "\n",
       "                                       primaryTitle  isAdult  runtimeMinutes  \\\n",
       "16  The Count of Monte Cristo - Part 2: Retribution      0.0            90.0   \n",
       "17                                       El Bandido      0.0            51.0   \n",
       "19                               Adios, El Cuchillo      0.0            49.0   \n",
       "21                                         Gaslicht      0.0            90.0   \n",
       "23                                Auld Acquaintance      0.0            49.0   \n",
       "\n",
       "    averageRating  numVotes  \n",
       "16            7.0      80.0  \n",
       "17            7.7      26.0  \n",
       "19            7.5      26.0  \n",
       "21            8.2      30.0  \n",
       "23            7.7      31.0  "
      ]
     },
     "execution_count": 19,
     "metadata": {},
     "output_type": "execute_result"
    }
   ],
   "source": [
    "df.head()"
   ]
  },
  {
   "cell_type": "code",
   "execution_count": 20,
   "id": "67b27549-8e7a-4c8f-b78b-94b5161e597a",
   "metadata": {},
   "outputs": [],
   "source": [
    "from sklearn.model_selection import train_test_split\n",
    "\n",
    "df_train, df_test = train_test_split(df, test_size=0.15, random_state=42)\n",
    "df_train, df_val = train_test_split(df, test_size=0.05, random_state=42)"
   ]
  },
  {
   "cell_type": "code",
   "execution_count": 21,
   "id": "fb2030e1-f791-46c0-9dbf-90e43723db23",
   "metadata": {},
   "outputs": [
    {
     "data": {
      "text/plain": [
       "((14832, 11), (781, 11), (2342, 11))"
      ]
     },
     "execution_count": 21,
     "metadata": {},
     "output_type": "execute_result"
    }
   ],
   "source": [
    "df_train.shape, df_val.shape, df_test.shape"
   ]
  },
  {
   "cell_type": "code",
   "execution_count": 22,
   "id": "27f710b7-e082-4acd-b64f-b91ffa2d9521",
   "metadata": {},
   "outputs": [],
   "source": [
    "df.to_json(\"imdb.json\", orient=\"records\")\n",
    "df_train.to_json(\"imdb_train.json\", orient=\"records\")\n",
    "df_val.to_json(\"imdb_val.json\", orient=\"records\")\n",
    "df_test.to_json(\"imdb_test.json\", orient=\"records\")"
   ]
  },
  {
   "cell_type": "code",
   "execution_count": 23,
   "id": "eb90daf6-98cd-4dd6-a849-9a5549dc0517",
   "metadata": {},
   "outputs": [
    {
     "data": {
      "text/plain": [
       "<AxesSubplot:>"
      ]
     },
     "execution_count": 23,
     "metadata": {},
     "output_type": "execute_result"
    },
    {
     "data": {
      "image/png": "[encoded data removed]",
      "text/plain": [
       "<Figure size 432x288 with 1 Axes>"
      ]
     },
     "metadata": {
      "needs_background": "light"
     },
     "output_type": "display_data"
    }
   ],
   "source": [
    "df.titleType.value_counts().plot.bar()"
   ]
  },
  {
   "cell_type": "code",
   "execution_count": 24,
   "id": "8fb0df4d-f242-4432-8eb0-71437c05a567",
   "metadata": {},
   "outputs": [],
   "source": [
    "from collections import Counter\n",
    "\n",
    "genres = []\n",
    "for entry in df.genre:\n",
    "    genres.extend(entry)\n",
    "genre_count = Counter(genres)\n",
    "genre_count = dict(sorted(genre_count.items(), key=lambda x: x[1], reverse=True))"
   ]
  },
  {
   "cell_type": "code",
   "execution_count": 25,
   "id": "a0380c5d-4314-4d01-bd6f-b02ece9ed181",
   "metadata": {},
   "outputs": [
    {
     "data": {
      "image/png": "[encoded data removed]",
      "text/plain": [
       "<Figure size 432x288 with 1 Axes>"
      ]
     },
     "metadata": {
      "needs_background": "light"
     },
     "output_type": "display_data"
    }
   ],
   "source": [
    "import matplotlib.pyplot as plt\n",
    "\n",
    "plt.bar(genre_count.keys(), genre_count.values())\n",
    "plt.xticks(rotation=\"vertical\")\n",
    "plt.show()"
   ]
  },
  {
   "cell_type": "code",
   "execution_count": 26,
   "id": "f5ade96f-0374-4efe-adb6-800fd07af24b",
   "metadata": {},
   "outputs": [
    {
     "data": {
      "text/plain": [
       "<AxesSubplot:xlabel='averageRating', ylabel='numVotes'>"
      ]
     },
     "execution_count": 26,
     "metadata": {},
     "output_type": "execute_result"
    },
    {
     "data": {
      "image/png": "[encoded data removed]",
      "text/plain": [
       "<Figure size 432x288 with 1 Axes>"
      ]
     },
     "metadata": {
      "needs_background": "light"
     },
     "output_type": "display_data"
    }
   ],
   "source": [
    "import seaborn as sns\n",
    "\n",
    "sns.scatterplot(y=\"numVotes\", x=\"averageRating\", data=df)"
   ]
  },
  {
   "cell_type": "code",
   "execution_count": 27,
   "id": "096ae140-1cd0-461d-aea3-e1b9d73e9cd0",
   "metadata": {},
   "outputs": [
    {
     "data": {
      "text/plain": [
       "<AxesSubplot:xlabel='titleType', ylabel='averageRating'>"
      ]
     },
     "execution_count": 27,
     "metadata": {},
     "output_type": "execute_result"
    },
    {
     "data": {
      "image/png": "[encoded data removed]",
      "text/plain": [
       "<Figure size 432x288 with 1 Axes>"
      ]
     },
     "metadata": {
      "needs_background": "light"
     },
     "output_type": "display_data"
    }
   ],
   "source": [
    "import numpy as np\n",
    "\n",
    "sns.violinplot(x=\"titleType\", y=\"averageRating\", data=df)\n",
    "# sns.stripplot(x=\"titleType\", y=\"averageRating\", data=df, color=\".3\")"
   ]
  },
  {
   "cell_type": "code",
   "execution_count": 28,
   "id": "d250a7a0-f4cd-4578-8d05-3d8cbb77d9b2",
   "metadata": {},
   "outputs": [
    {
     "data": {
      "text/plain": [
       "<AxesSubplot:xlabel='titleType', ylabel='numVotes'>"
      ]
     },
     "execution_count": 28,
     "metadata": {},
     "output_type": "execute_result"
    },
    {
     "data": {
      "image/png": "[encoded data removed]",
      "text/plain": [
       "<Figure size 432x288 with 1 Axes>"
      ]
     },
     "metadata": {
      "needs_background": "light"
     },
     "output_type": "display_data"
    }
   ],
   "source": [
    "sns.violinplot(x=\"titleType\", y=\"numVotes\", data=df)"
   ]
  },
  {
   "cell_type": "code",
   "execution_count": 33,
   "id": "2ba04131-439a-4ae9-bd6b-185a616baa02",
   "metadata": {},
   "outputs": [
    {
     "data": {
      "text/plain": [
       "Comedy                      1408\n",
       "Comedy, Romance             1204\n",
       "Crime, Mystery              1142\n",
       "                            1082\n",
       "Fantasy, Horror              626\n",
       "                            ... \n",
       "Animation, Thriller            1\n",
       "Comedy, Romance, Sci-Fi        1\n",
       "Comedy, Musical, Romance       1\n",
       "Biography, Comedy, Crime       1\n",
       "Documentary, Short             1\n",
       "Name: genre, Length: 305, dtype: int64"
      ]
     },
     "execution_count": 33,
     "metadata": {},
     "output_type": "execute_result"
    }
   ],
   "source": [
    "df.genre.apply(lambda x: \", \".join(x)).value_counts()"
   ]
  },
  {
   "cell_type": "code",
   "execution_count": null,
   "id": "10176bb5-931c-4045-a6b1-a5a9ff9a7acf",
   "metadata": {},
   "outputs": [],
   "source": []
  }
 ],
 "metadata": {
  "kernelspec": {
   "display_name": "Python 3 (ipykernel)",
   "language": "python",
   "name": "python3"
  },
  "language_info": {
   "codemirror_mode": {
    "name": "ipython",
    "version": 3
   },
   "file_extension": ".py",
   "mimetype": "text/x-python",
   "name": "python",
   "nbconvert_exporter": "python",
   "pygments_lexer": "ipython3",
   "version": "3.9.6"
  }
 },
 "nbformat": 4,
 "nbformat_minor": 5
}
