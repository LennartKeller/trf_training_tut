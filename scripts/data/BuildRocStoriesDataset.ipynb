{
 "cells": [
  {
   "cell_type": "code",
   "execution_count": 1,
   "id": "9249009e-87e9-4766-a57e-f1571fef4411",
   "metadata": {},
   "outputs": [],
   "source": [
    "from datasets import Dataset, DatasetDict"
   ]
  },
  {
   "cell_type": "code",
   "execution_count": 2,
   "id": "8723a37d-c298-460f-8725-e88821acd24d",
   "metadata": {},
   "outputs": [
    {
     "name": "stderr",
     "output_type": "stream",
     "text": [
      "Using custom data configuration default-ab73c4f3571a1168\n"
     ]
    },
    {
     "name": "stdout",
     "output_type": "stream",
     "text": [
      "Downloading and preparing dataset csv/default to /mnt/data/users/keller/.cache/csv/default-ab73c4f3571a1168/0.0.0...\n"
     ]
    },
    {
     "data": {
      "application/vnd.jupyter.widget-view+json": {
       "model_id": "74e1d4d6f8c94aeca42cbd8bd79064c8",
       "version_major": 2,
       "version_minor": 0
      },
      "text/plain": [
       "  0%|          | 0/1 [00:00<?, ?it/s]"
      ]
     },
     "metadata": {},
     "output_type": "display_data"
    },
    {
     "data": {
      "application/vnd.jupyter.widget-view+json": {
       "model_id": "18f6ea39e05647a9a214a0cf3ee5fdff",
       "version_major": 2,
       "version_minor": 0
      },
      "text/plain": [
       "  0%|          | 0/1 [00:00<?, ?it/s]"
      ]
     },
     "metadata": {},
     "output_type": "display_data"
    },
    {
     "data": {
      "application/vnd.jupyter.widget-view+json": {
       "model_id": "",
       "version_major": 2,
       "version_minor": 0
      },
      "text/plain": [
       "0 tables [00:00, ? tables/s]"
      ]
     },
     "metadata": {},
     "output_type": "display_data"
    },
    {
     "name": "stdout",
     "output_type": "stream",
     "text": [
      "Dataset csv downloaded and prepared to /mnt/data/users/keller/.cache/csv/default-ab73c4f3571a1168/0.0.0. Subsequent calls will reuse this data.\n"
     ]
    },
    {
     "data": {
      "text/plain": [
       "Dataset({\n",
       "    features: ['storyid', 'storytitle', 'sentence1', 'sentence2', 'sentence3', 'sentence4', 'sentence5'],\n",
       "    num_rows: 52665\n",
       "})"
      ]
     },
     "execution_count": 2,
     "metadata": {},
     "output_type": "execute_result"
    }
   ],
   "source": [
    "dataset = Dataset.from_csv('/mnt/data/users/keller/ROCStories/ROCStories_winter2017 - ROCStories_winter2017.csv')\n",
    "dataset"
   ]
  },
  {
   "cell_type": "code",
   "execution_count": 3,
   "id": "7f82a59b-a50a-4b70-8f4a-3a639e28ffbd",
   "metadata": {},
   "outputs": [
    {
     "data": {
      "text/plain": [
       "52665"
      ]
     },
     "execution_count": 3,
     "metadata": {},
     "output_type": "execute_result"
    }
   ],
   "source": [
    "len(dataset)"
   ]
  },
  {
   "cell_type": "code",
   "execution_count": 4,
   "id": "a24ac3ce-9523-434c-9f40-beaf1a2fa796",
   "metadata": {},
   "outputs": [],
   "source": [
    "from random import shuffle\n",
    "from random import seed as set_seed\n",
    "\n",
    "def make_shuffle_func(sep_token):\n",
    "    def shuffle_stories(entries, seed=42):\n",
    "        set_seed(seed)\n",
    "        entries_as_dicts = [dict(zip(entries, values)) for values in zip(*entries.values())]\n",
    "        converted_entries = []\n",
    "        for entry in entries_as_dicts:\n",
    "            sents = [entry[key] for key in sorted([key for key in entry.keys() if key.startswith('sentence')], key=lambda x: int(x[-1]))]\n",
    "            sent_idx = list(range(len(sents)))\n",
    "            sents_with_idx = list(zip(sents, sent_idx))\n",
    "            shuffle(sents_with_idx)\n",
    "            text = f'{sep_token} ' + f' {sep_token} '.join([s[0] for s in sents_with_idx]) \n",
    "            so_targets = [s[1] for s in sents_with_idx]\n",
    "            shuffled_entry = {'text': text, 'so_targets': so_targets}\n",
    "            converted_entries.append(shuffled_entry)\n",
    "        new_entry = {key: [entry[key] for entry in converted_entries] for key in converted_entries[0]}\n",
    "        return new_entry\n",
    "    return shuffle_stories"
   ]
  },
  {
   "cell_type": "code",
   "execution_count": 5,
   "id": "b932d011-0ed5-4601-8641-a5f2c439bd34",
   "metadata": {},
   "outputs": [],
   "source": [
    "map_func = make_shuffle_func('[CLS]')"
   ]
  },
  {
   "cell_type": "code",
   "execution_count": 6,
   "id": "9a2de85a-330c-48af-aab8-62f2288ae71a",
   "metadata": {},
   "outputs": [
    {
     "data": {
      "application/vnd.jupyter.widget-view+json": {
       "model_id": "4adaf9e6769d414abb420b628e316b9d",
       "version_major": 2,
       "version_minor": 0
      },
      "text/plain": [
       "  0%|          | 0/53 [00:00<?, ?ba/s]"
      ]
     },
     "metadata": {},
     "output_type": "display_data"
    }
   ],
   "source": [
    "dataset = dataset.map(map_func, batched=True)"
   ]
  },
  {
   "cell_type": "code",
   "execution_count": 7,
   "id": "67c96932-d8e3-45dc-a731-9aaddfe37728",
   "metadata": {},
   "outputs": [
    {
     "data": {
      "text/plain": [
       "Dataset({\n",
       "    features: ['sentence1', 'sentence2', 'sentence3', 'sentence4', 'sentence5', 'so_targets', 'storyid', 'storytitle', 'text'],\n",
       "    num_rows: 52665\n",
       "})"
      ]
     },
     "execution_count": 7,
     "metadata": {},
     "output_type": "execute_result"
    }
   ],
   "source": [
    "dataset"
   ]
  },
  {
   "cell_type": "code",
   "execution_count": 8,
   "id": "ec97c46a-83d3-40d0-bd33-9bcfbbf5b38e",
   "metadata": {},
   "outputs": [],
   "source": [
    "train_test = dataset.train_test_split(test_size=0.2, seed=42)\n",
    "\n",
    "test_validation = train_test['test'].train_test_split(test_size=0.3, seed=42)\n",
    "\n",
    "dataset = DatasetDict({\n",
    "    'train': train_test['train'],\n",
    "    'test': test_validation['train'],\n",
    "    'val': test_validation['test']})"
   ]
  },
  {
   "cell_type": "code",
   "execution_count": 9,
   "id": "cd17171e-09a3-45ce-be73-90d4df7e4307",
   "metadata": {},
   "outputs": [
    {
     "data": {
      "text/plain": [
       "DatasetDict({\n",
       "    train: Dataset({\n",
       "        features: ['sentence1', 'sentence2', 'sentence3', 'sentence4', 'sentence5', 'so_targets', 'storyid', 'storytitle', 'text'],\n",
       "        num_rows: 42132\n",
       "    })\n",
       "    test: Dataset({\n",
       "        features: ['sentence1', 'sentence2', 'sentence3', 'sentence4', 'sentence5', 'so_targets', 'storyid', 'storytitle', 'text'],\n",
       "        num_rows: 7373\n",
       "    })\n",
       "    val: Dataset({\n",
       "        features: ['sentence1', 'sentence2', 'sentence3', 'sentence4', 'sentence5', 'so_targets', 'storyid', 'storytitle', 'text'],\n",
       "        num_rows: 3160\n",
       "    })\n",
       "})"
      ]
     },
     "execution_count": 9,
     "metadata": {},
     "output_type": "execute_result"
    }
   ],
   "source": [
    "dataset.save_to_disk('rocstories')\n",
    "dataset"
   ]
  },
  {
   "cell_type": "code",
   "execution_count": 10,
   "id": "a6ebc1d9-29f8-4509-af1f-cddd9c5d91fc",
   "metadata": {},
   "outputs": [
    {
     "name": "stdout",
     "output_type": "stream",
     "text": [
      "[CLS] They got hung up on a rock near the end. [CLS] They had a good time and pledged to go again. [CLS] The current was very fast through the shoals. [CLS] Bob took his daughter canoeing on the river. [CLS] The entire trip was about three miles.\n"
     ]
    }
   ],
   "source": [
    "for entry in dataset['train']:\n",
    "    print(entry['text'])\n",
    "    break"
   ]
  },
  {
   "cell_type": "code",
   "execution_count": null,
   "id": "730946f5-fe00-405a-addf-f3628635f2bf",
   "metadata": {},
   "outputs": [],
   "source": []
  }
 ],
 "metadata": {
  "kernelspec": {
   "display_name": "Python 3 (ipykernel)",
   "language": "python",
   "name": "python3"
  },
  "language_info": {
   "codemirror_mode": {
    "name": "ipython",
    "version": 3
   },
   "file_extension": ".py",
   "mimetype": "text/x-python",
   "name": "python",
   "nbconvert_exporter": "python",
   "pygments_lexer": "ipython3",
   "version": "3.9.6"
  }
 },
 "nbformat": 4,
 "nbformat_minor": 5
}
