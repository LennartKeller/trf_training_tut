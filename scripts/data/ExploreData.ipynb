{
 "cells": [
  {
   "cell_type": "code",
   "execution_count": 1,
   "id": "ec903bc5-6d87-4167-b6dc-0b0a27fa0fe6",
   "metadata": {},
   "outputs": [],
   "source": [
    "import pandas as pd\n",
    "import numpy as np\n",
    "import seaborn as sns\n",
    "import matplotlib.pyplot as plt"
   ]
  },
  {
   "cell_type": "code",
   "execution_count": 2,
   "id": "1837a505-7efc-4f9c-a692-195c41de742c",
   "metadata": {},
   "outputs": [],
   "source": [
    "df = pd.read_json(\"imdb.json\")\n",
    "df_train = pd.read_json(\"imdb_train.json\")\n",
    "df_test = pd.read_json(\"imdb_test.json\")"
   ]
  },
  {
   "cell_type": "code",
   "execution_count": 3,
   "id": "53fc51d8-4374-4fbb-9845-b3259c0d425b",
   "metadata": {},
   "outputs": [
    {
     "data": {
      "text/plain": [
       "((15613, 11), (14832, 11), (2342, 11))"
      ]
     },
     "execution_count": 3,
     "metadata": {},
     "output_type": "execute_result"
    }
   ],
   "source": [
    "df.shape, df_train.shape, df_test.shape"
   ]
  },
  {
   "cell_type": "code",
   "execution_count": 4,
   "id": "3b0cc7fa-fe88-44a3-80a6-584d45d94444",
   "metadata": {},
   "outputs": [
    {
     "data": {
      "text/html": [
       "<div>\n",
       "<style scoped>\n",
       "    .dataframe tbody tr th:only-of-type {\n",
       "        vertical-align: middle;\n",
       "    }\n",
       "\n",
       "    .dataframe tbody tr th {\n",
       "        vertical-align: top;\n",
       "    }\n",
       "\n",
       "    .dataframe thead th {\n",
       "        text-align: right;\n",
       "    }\n",
       "</style>\n",
       "<table border=\"1\" class=\"dataframe\">\n",
       "  <thead>\n",
       "    <tr style=\"text-align: right;\">\n",
       "      <th></th>\n",
       "      <th>text</th>\n",
       "      <th>IMDB_ID</th>\n",
       "      <th>genre</th>\n",
       "      <th>year</th>\n",
       "      <th>duration</th>\n",
       "      <th>titleType</th>\n",
       "      <th>primaryTitle</th>\n",
       "      <th>isAdult</th>\n",
       "      <th>runtimeMinutes</th>\n",
       "      <th>averageRating</th>\n",
       "      <th>numVotes</th>\n",
       "    </tr>\n",
       "  </thead>\n",
       "  <tbody>\n",
       "    <tr>\n",
       "      <th>0</th>\n",
       "      <td>Der Roman von Alexandre Dumas dem Älteren hatt...</td>\n",
       "      <td>tt1104767</td>\n",
       "      <td>[Adventure, History]</td>\n",
       "      <td>1943</td>\n",
       "      <td>90</td>\n",
       "      <td>movie</td>\n",
       "      <td>The Count of Monte Cristo - Part 2: Retribution</td>\n",
       "      <td>0</td>\n",
       "      <td>90</td>\n",
       "      <td>7.0</td>\n",
       "      <td>80</td>\n",
       "    </tr>\n",
       "    <tr>\n",
       "      <th>1</th>\n",
       "      <td>Walt Disney präsentiert aus dem Frontier-Land:...</td>\n",
       "      <td>tt1041393</td>\n",
       "      <td>[Action, Adventure, Comedy]</td>\n",
       "      <td>1960</td>\n",
       "      <td>51</td>\n",
       "      <td>tvEpisode</td>\n",
       "      <td>El Bandido</td>\n",
       "      <td>0</td>\n",
       "      <td>51</td>\n",
       "      <td>7.7</td>\n",
       "      <td>26</td>\n",
       "    </tr>\n",
       "    <tr>\n",
       "      <th>2</th>\n",
       "      <td>Walt Disney präsentiert aus dem Frontier-Land:...</td>\n",
       "      <td>tt1041444</td>\n",
       "      <td>[Action, Adventure, Comedy]</td>\n",
       "      <td>1960</td>\n",
       "      <td>49</td>\n",
       "      <td>tvEpisode</td>\n",
       "      <td>Adios, El Cuchillo</td>\n",
       "      <td>0</td>\n",
       "      <td>49</td>\n",
       "      <td>7.5</td>\n",
       "      <td>26</td>\n",
       "    </tr>\n",
       "    <tr>\n",
       "      <th>3</th>\n",
       "      <td>Gaslicht(1960) dTV- Bayerisches FS- 26. August...</td>\n",
       "      <td>tt1213061</td>\n",
       "      <td>[Thriller]</td>\n",
       "      <td>1960</td>\n",
       "      <td>90</td>\n",
       "      <td>movie</td>\n",
       "      <td>Gaslicht</td>\n",
       "      <td>0</td>\n",
       "      <td>90</td>\n",
       "      <td>8.2</td>\n",
       "      <td>30</td>\n",
       "    </tr>\n",
       "    <tr>\n",
       "      <th>4</th>\n",
       "      <td>Walt Disney präsentiert aus dem Frontier-Land:...</td>\n",
       "      <td>tt1041392</td>\n",
       "      <td>[Action, Adventure, Comedy]</td>\n",
       "      <td>1961</td>\n",
       "      <td>49</td>\n",
       "      <td>tvEpisode</td>\n",
       "      <td>Auld Acquaintance</td>\n",
       "      <td>0</td>\n",
       "      <td>49</td>\n",
       "      <td>7.7</td>\n",
       "      <td>31</td>\n",
       "    </tr>\n",
       "  </tbody>\n",
       "</table>\n",
       "</div>"
      ],
      "text/plain": [
       "                                                text    IMDB_ID  \\\n",
       "0  Der Roman von Alexandre Dumas dem Älteren hatt...  tt1104767   \n",
       "1  Walt Disney präsentiert aus dem Frontier-Land:...  tt1041393   \n",
       "2  Walt Disney präsentiert aus dem Frontier-Land:...  tt1041444   \n",
       "3  Gaslicht(1960) dTV- Bayerisches FS- 26. August...  tt1213061   \n",
       "4  Walt Disney präsentiert aus dem Frontier-Land:...  tt1041392   \n",
       "\n",
       "                         genre  year  duration  titleType  \\\n",
       "0         [Adventure, History]  1943        90      movie   \n",
       "1  [Action, Adventure, Comedy]  1960        51  tvEpisode   \n",
       "2  [Action, Adventure, Comedy]  1960        49  tvEpisode   \n",
       "3                   [Thriller]  1960        90      movie   \n",
       "4  [Action, Adventure, Comedy]  1961        49  tvEpisode   \n",
       "\n",
       "                                      primaryTitle  isAdult  runtimeMinutes  \\\n",
       "0  The Count of Monte Cristo - Part 2: Retribution        0              90   \n",
       "1                                       El Bandido        0              51   \n",
       "2                               Adios, El Cuchillo        0              49   \n",
       "3                                         Gaslicht        0              90   \n",
       "4                                Auld Acquaintance        0              49   \n",
       "\n",
       "   averageRating  numVotes  \n",
       "0            7.0        80  \n",
       "1            7.7        26  \n",
       "2            7.5        26  \n",
       "3            8.2        30  \n",
       "4            7.7        31  "
      ]
     },
     "execution_count": 4,
     "metadata": {},
     "output_type": "execute_result"
    }
   ],
   "source": [
    "df.head()"
   ]
  },
  {
   "cell_type": "code",
   "execution_count": 5,
   "id": "41e4dee1-2e4d-4b70-baaf-86e0a36df2f1",
   "metadata": {},
   "outputs": [],
   "source": [
    "# query = 'titleType == \"tvEpisode\"'\n",
    "#\n",
    "# df = df.query(query)\n",
    "# df_train = df_train.query(query)\n",
    "# df_test = df_test.query(query)"
   ]
  },
  {
   "cell_type": "markdown",
   "id": "59574aad-0327-448e-8d43-c0c6824c4bf6",
   "metadata": {},
   "source": [
    "#### Sample datasets for faster training and inference"
   ]
  },
  {
   "cell_type": "code",
   "execution_count": 6,
   "id": "1d005c08-06aa-4a28-b686-2a79bdd963d8",
   "metadata": {},
   "outputs": [
    {
     "data": {
      "text/plain": [
       "((1561, 11), (1483, 11), (234, 11))"
      ]
     },
     "execution_count": 6,
     "metadata": {},
     "output_type": "execute_result"
    }
   ],
   "source": [
    "df_sample = df.sample(frac=0.1, random_state=42)\n",
    "df_train_sample = df_train.sample(frac=0.1, random_state=42)\n",
    "df_test_sample = df_test.sample(frac=0.1, random_state=42)\n",
    "df_sample.shape, df_train_sample.shape, df_test_sample.shape"
   ]
  },
  {
   "cell_type": "markdown",
   "id": "a57fe51e-7330-4244-ad8e-cf9a11e8d283",
   "metadata": {},
   "source": [
    "### Check distribution of movies and tv episodes"
   ]
  },
  {
   "cell_type": "code",
   "execution_count": 7,
   "id": "470efc57-b239-4806-83a6-9a0f4493d5c8",
   "metadata": {},
   "outputs": [
    {
     "data": {
      "text/plain": [
       "<AxesSubplot:>"
      ]
     },
     "execution_count": 7,
     "metadata": {},
     "output_type": "execute_result"
    },
    {
     "data": {
      "image/png": "[encoded data removed]",
      "text/plain": [
       "<Figure size 432x288 with 1 Axes>"
      ]
     },
     "metadata": {
      "needs_background": "light"
     },
     "output_type": "display_data"
    }
   ],
   "source": [
    "df.titleType.value_counts().plot.bar()"
   ]
  },
  {
   "cell_type": "code",
   "execution_count": 8,
   "id": "284bbec0-82e8-4abb-bbff-bab61bbd0953",
   "metadata": {},
   "outputs": [
    {
     "data": {
      "text/plain": [
       "<AxesSubplot:>"
      ]
     },
     "execution_count": 8,
     "metadata": {},
     "output_type": "execute_result"
    },
    {
     "data": {
      "image/png": "[encoded data removed]",
      "text/plain": [
       "<Figure size 432x288 with 1 Axes>"
      ]
     },
     "metadata": {
      "needs_background": "light"
     },
     "output_type": "display_data"
    }
   ],
   "source": [
    "df_sample.titleType.value_counts().plot.bar()"
   ]
  },
  {
   "cell_type": "markdown",
   "id": "cec79b30-5e74-4b26-bfbd-8f3f0f500e40",
   "metadata": {},
   "source": [
    "### Check regression target: Average Rating"
   ]
  },
  {
   "cell_type": "code",
   "execution_count": 9,
   "id": "e1306488-5c7c-414c-8399-7c952ebadf15",
   "metadata": {},
   "outputs": [
    {
     "data": {
      "text/plain": [
       "<AxesSubplot:ylabel='Frequency'>"
      ]
     },
     "execution_count": 9,
     "metadata": {},
     "output_type": "execute_result"
    },
    {
     "data": {
      "image/png": "[encoded data removed]",
      "text/plain": [
       "<Figure size 432x288 with 1 Axes>"
      ]
     },
     "metadata": {
      "needs_background": "light"
     },
     "output_type": "display_data"
    }
   ],
   "source": [
    "df.averageRating.plot.hist(bins=64)"
   ]
  },
  {
   "cell_type": "code",
   "execution_count": 10,
   "id": "1d18b1db-0289-4bd1-8d83-d316a58bfefa",
   "metadata": {},
   "outputs": [
    {
     "data": {
      "text/plain": [
       "<AxesSubplot:ylabel='Frequency'>"
      ]
     },
     "execution_count": 10,
     "metadata": {},
     "output_type": "execute_result"
    },
    {
     "data": {
      "image/png": "[encoded data removed]",
      "text/plain": [
       "<Figure size 432x288 with 1 Axes>"
      ]
     },
     "metadata": {
      "needs_background": "light"
     },
     "output_type": "display_data"
    }
   ],
   "source": [
    "df_sample.averageRating.plot.hist(bins=64)"
   ]
  },
  {
   "cell_type": "code",
   "execution_count": 11,
   "id": "313f92c7-4e90-4bc7-ac02-bd173a56eec5",
   "metadata": {},
   "outputs": [
    {
     "data": {
      "text/plain": [
       "titleType\n",
       "movie        AxesSubplot(0.125,0.125;0.775x0.755)\n",
       "tvEpisode    AxesSubplot(0.125,0.125;0.775x0.755)\n",
       "Name: averageRating, dtype: object"
      ]
     },
     "execution_count": 11,
     "metadata": {},
     "output_type": "execute_result"
    },
    {
     "data": {
      "image/png": "[encoded data removed]",
      "text/plain": [
       "<Figure size 432x288 with 1 Axes>"
      ]
     },
     "metadata": {
      "needs_background": "light"
     },
     "output_type": "display_data"
    }
   ],
   "source": [
    "df.groupby(\"titleType\").averageRating.plot.hist(bins=64)"
   ]
  },
  {
   "cell_type": "code",
   "execution_count": 12,
   "id": "50e3e649-f78f-4261-8f0b-c080272cc818",
   "metadata": {},
   "outputs": [],
   "source": [
    "from sklearn.feature_extraction.text import TfidfVectorizer\n",
    "\n",
    "tfidf_vec = TfidfVectorizer(max_features=10000)\n",
    "\n",
    "X_train = tfidf_vec.fit_transform(df_train_sample.text)\n",
    "X_test = tfidf_vec.transform(df_test_sample.text)"
   ]
  },
  {
   "cell_type": "code",
   "execution_count": 13,
   "id": "dce9dfd2-e022-4b43-b05c-60a8e4b318bc",
   "metadata": {},
   "outputs": [],
   "source": [
    "yreg_train = df_train_sample.averageRating.to_numpy()\n",
    "yreg_test = df_test_sample.averageRating.to_numpy()"
   ]
  },
  {
   "cell_type": "code",
   "execution_count": 14,
   "id": "db617bc3-d949-4c27-95b0-dad9d68eb0ca",
   "metadata": {},
   "outputs": [
    {
     "data": {
      "text/plain": [
       "SVR()"
      ]
     },
     "execution_count": 14,
     "metadata": {},
     "output_type": "execute_result"
    }
   ],
   "source": [
    "from sklearn.svm import SVR\n",
    "from sklearn.linear_model import LinearRegression\n",
    "from sklearn.kernel_ridge import KernelRidge\n",
    "\n",
    "regressor = SVR(kernel=\"rbf\")\n",
    "\n",
    "regressor.fit(X_train, yreg_train)"
   ]
  },
  {
   "cell_type": "code",
   "execution_count": 15,
   "id": "1e6b3d08-bf30-43d0-b746-d071d6a95470",
   "metadata": {},
   "outputs": [
    {
     "name": "stdout",
     "output_type": "stream",
     "text": [
      "R2-Score: 0.3368228823276046\n",
      "Mean absolute error: 0.6157250007751246\n"
     ]
    }
   ],
   "source": [
    "from sklearn.metrics import r2_score, mean_absolute_error\n",
    "\n",
    "yreg_pred = regressor.predict(X_test)\n",
    "\n",
    "print(f\"R2-Score: {r2_score(yreg_test, yreg_pred)}\")\n",
    "print(f\"Mean absolute error: {mean_absolute_error(yreg_test, yreg_pred)}\")"
   ]
  },
  {
   "cell_type": "code",
   "execution_count": 16,
   "id": "afc99947-c16c-4067-a8c5-d6b312539b49",
   "metadata": {},
   "outputs": [
    {
     "data": {
      "text/plain": [
       "text              - Hallo? - Tracey, hier ist Bradley. Bradley, ...\n",
       "IMDB_ID                                                   tt3138104\n",
       "genre                                                      [Comedy]\n",
       "year                                                           2014\n",
       "duration                                                         85\n",
       "titleType                                                     movie\n",
       "primaryTitle                                     The Hungover Games\n",
       "isAdult                                                           0\n",
       "runtimeMinutes                                                   85\n",
       "averageRating                                                   3.6\n",
       "numVotes                                                      10790\n",
       "Name: 810, dtype: object"
      ]
     },
     "execution_count": 16,
     "metadata": {},
     "output_type": "execute_result"
    }
   ],
   "source": [
    "df_test_sample.iloc[np.argmax(np.abs(yreg_test - yreg_pred))]"
   ]
  },
  {
   "cell_type": "code",
   "execution_count": 17,
   "id": "61c72406-4767-4128-ab5f-8a835cb7fa33",
   "metadata": {},
   "outputs": [],
   "source": [
    "only_movies_mask = df_test_sample.titleType == \"movie\""
   ]
  },
  {
   "cell_type": "code",
   "execution_count": 18,
   "id": "58a2bc22-7b31-46db-a6da-20f777baa3a8",
   "metadata": {},
   "outputs": [
    {
     "name": "stdout",
     "output_type": "stream",
     "text": [
      "Only movies: R2-Score: -0.6788636112475936\n",
      "Only movies: Mean absolute error: 0.9923036023635103\n"
     ]
    }
   ],
   "source": [
    "print(\n",
    "    f\"Only movies: R2-Score: {r2_score(yreg_test[only_movies_mask], yreg_pred[only_movies_mask])}\"\n",
    ")\n",
    "print(\n",
    "    f\"Only movies: Mean absolute error: {mean_absolute_error(yreg_test[only_movies_mask], yreg_pred[only_movies_mask])}\"\n",
    ")"
   ]
  },
  {
   "cell_type": "code",
   "execution_count": 19,
   "id": "424924da-beae-4287-b743-560f037c403c",
   "metadata": {},
   "outputs": [],
   "source": [
    "only_tv_episodes_mask = df_test_sample.titleType == \"tvEpisode\""
   ]
  },
  {
   "cell_type": "code",
   "execution_count": 20,
   "id": "f552dcaf-ff0b-4613-87de-9ac284169ee9",
   "metadata": {},
   "outputs": [
    {
     "name": "stdout",
     "output_type": "stream",
     "text": [
      "Only tvEpisodes: R2-Score: 0.1049805062940311\n",
      "Only tvEpisodes: Mean absolute error: 0.49162523434258837\n"
     ]
    }
   ],
   "source": [
    "print(\n",
    "    f\"Only tvEpisodes: R2-Score: {r2_score(yreg_test[only_tv_episodes_mask], yreg_pred[only_tv_episodes_mask])}\"\n",
    ")\n",
    "print(\n",
    "    f\"Only tvEpisodes: Mean absolute error: {mean_absolute_error(yreg_test[only_tv_episodes_mask], yreg_pred[only_tv_episodes_mask])}\"\n",
    ")"
   ]
  },
  {
   "cell_type": "code",
   "execution_count": null,
   "id": "9b5eafd0-83db-4d3d-8db1-32e4456c1a6c",
   "metadata": {},
   "outputs": [],
   "source": []
  }
 ],
 "metadata": {
  "kernelspec": {
   "display_name": "Python 3",
   "language": "python",
   "name": "python3"
  },
  "language_info": {
   "codemirror_mode": {
    "name": "ipython",
    "version": 3
   },
   "file_extension": ".py",
   "mimetype": "text/x-python",
   "name": "python",
   "nbconvert_exporter": "python",
   "pygments_lexer": "ipython3",
   "version": "3.8.8"
  }
 },
 "nbformat": 4,
 "nbformat_minor": 5
}
