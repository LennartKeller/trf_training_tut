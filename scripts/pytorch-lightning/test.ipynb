{
 "cells": [
  {
   "cell_type": "code",
   "execution_count": 21,
   "id": "c5769e60-4917-4435-ad21-848377ba2489",
   "metadata": {},
   "outputs": [],
   "source": [
    "import torch\n",
    "from pytorch_lightning import LightningModule, LightningDataModule\n",
    "from torch import nn"
   ]
  },
  {
   "cell_type": "code",
   "execution_count": 2,
   "id": "6c8873a1-6927-48a6-8123-50058c2fceb1",
   "metadata": {},
   "outputs": [],
   "source": [
    "from transformers import AutoModel"
   ]
  },
  {
   "cell_type": "code",
   "execution_count": 13,
   "id": "9cbc65fe-bf0b-4aff-8f15-9884e373b9d9",
   "metadata": {},
   "outputs": [],
   "source": [
    "class MLP(LightningModule):\n",
    "    def __init__(self, n_hidden_layers, hidden_layer_size=256):\n",
    "        super().__init__()\n",
    "        self.save_hyperparameters(ignore=[\"hidden_layer_size\"])\n",
    "\n",
    "        # Build the network\n",
    "        hidden_layers = []\n",
    "        for _ in range(self.hparams[\"n_hidden_layers\"]):\n",
    "            hidden_layers.extend(\n",
    "                [nn.Linear(in_features=512, out_features=512), nn.ReLU()]\n",
    "            )\n",
    "\n",
    "        self.net = nn.Sequential(\n",
    "            *hidden_layers, nn.Linear(in_features=512, out_features=1)\n",
    "        )\n",
    "\n",
    "    def forward(self, inputs):\n",
    "        self.n_hidden_layers = 4\n",
    "        return self.net(inputs)\n",
    "\n",
    "    def train_step(self, batch):\n",
    "        inputs, targets = batch\n",
    "        outputs = self(inputs).reshape(-1)\n",
    "        loss_fn = nn.BCEWithLogitsLoss()\n",
    "        loss = loss_fn(outputs, targets)\n",
    "        return loss"
   ]
  },
  {
   "cell_type": "code",
   "execution_count": 14,
   "id": "c3a1b255-5858-4fa9-8097-12a1bab054fc",
   "metadata": {},
   "outputs": [
    {
     "name": "stderr",
     "output_type": "stream",
     "text": [
      "Some weights of the model checkpoint at bert-base-cased were not used when initializing BertModel: ['cls.predictions.transform.dense.bias', 'cls.predictions.transform.dense.weight', 'cls.predictions.transform.LayerNorm.weight', 'cls.seq_relationship.bias', 'cls.predictions.decoder.weight', 'cls.predictions.transform.LayerNorm.bias', 'cls.predictions.bias', 'cls.seq_relationship.weight']\n",
      "- This IS expected if you are initializing BertModel from the checkpoint of a model trained on another task or with another architecture (e.g. initializing a BertForSequenceClassification model from a BertForPreTraining model).\n",
      "- This IS NOT expected if you are initializing BertModel from the checkpoint of a model that you expect to be exactly identical (initializing a BertForSequenceClassification model from a BertForSequenceClassification model).\n"
     ]
    }
   ],
   "source": [
    "bert = AutoModel.from_pretrained(\"bert-base-cased\")"
   ]
  },
  {
   "cell_type": "code",
   "execution_count": 16,
   "id": "9f3a1e57-e25b-49af-9e91-b56f87ca72e9",
   "metadata": {},
   "outputs": [],
   "source": [
    "model = MLP(5)"
   ]
  },
  {
   "cell_type": "code",
   "execution_count": 17,
   "id": "80940e8e-54ea-4d69-ab53-387c59a8a247",
   "metadata": {},
   "outputs": [],
   "source": [
    "inputs = torch.rand(16, 512)\n",
    "targets = torch.randint(0, 2, (16,)).float()  # binary targets\n",
    "batch = (inputs, targets)"
   ]
  },
  {
   "cell_type": "code",
   "execution_count": 18,
   "id": "11854613-93aa-400e-a6e1-95200b9353cd",
   "metadata": {},
   "outputs": [
    {
     "data": {
      "text/plain": [
       "tensor([[-0.0435],\n",
       "        [-0.0429],\n",
       "        [-0.0422],\n",
       "        [-0.0429],\n",
       "        [-0.0425],\n",
       "        [-0.0440],\n",
       "        [-0.0442],\n",
       "        [-0.0424],\n",
       "        [-0.0423],\n",
       "        [-0.0438],\n",
       "        [-0.0423],\n",
       "        [-0.0424],\n",
       "        [-0.0452],\n",
       "        [-0.0438],\n",
       "        [-0.0405],\n",
       "        [-0.0428]], grad_fn=<AddmmBackward>)"
      ]
     },
     "execution_count": 18,
     "metadata": {},
     "output_type": "execute_result"
    }
   ],
   "source": [
    "model(inputs)"
   ]
  },
  {
   "cell_type": "code",
   "execution_count": 19,
   "id": "330509f8-981e-4bd6-9ad5-e9bfedfde6c7",
   "metadata": {},
   "outputs": [
    {
     "data": {
      "text/plain": [
       "tensor(0.6986, grad_fn=<BinaryCrossEntropyWithLogitsBackward>)"
      ]
     },
     "execution_count": 19,
     "metadata": {},
     "output_type": "execute_result"
    }
   ],
   "source": [
    "model.train_step(batch)"
   ]
  },
  {
   "cell_type": "code",
   "execution_count": 38,
   "id": "0e4382cb-18e6-4082-b6dd-a4c8366f2a19",
   "metadata": {},
   "outputs": [],
   "source": [
    "from pl_modules import PlLanguageModelForSequenceOrdering"
   ]
  },
  {
   "cell_type": "code",
   "execution_count": 48,
   "id": "4306a7f0-a3e2-4af6-8ffe-0a0679472d88",
   "metadata": {},
   "outputs": [
    {
     "name": "stdout",
     "output_type": "stream",
     "text": [
      "['__class__', '__contains__', '__delattr__', '__dict__', '__dir__', '__doc__', '__eq__', '__format__', '__ge__', '__getattribute__', '__gt__', '__hash__', '__init__', '__init_subclass__', '__le__', '__lt__', '__module__', '__ne__', '__new__', '__reduce__', '__reduce_ex__', '__repr__', '__setattr__', '__sizeof__', '__str__', '__subclasshook__', '__weakref__', '_get_args', '_get_kwargs', 'model_name_or_path']\n"
     ]
    },
    {
     "name": "stderr",
     "output_type": "stream",
     "text": [
      "Some weights of the model checkpoint at bert-base-cased were not used when initializing BertForTokenClassification: ['cls.predictions.transform.dense.bias', 'cls.predictions.transform.dense.weight', 'cls.predictions.transform.LayerNorm.weight', 'cls.seq_relationship.bias', 'cls.predictions.decoder.weight', 'cls.predictions.transform.LayerNorm.bias', 'cls.predictions.bias', 'cls.seq_relationship.weight']\n",
      "- This IS expected if you are initializing BertForTokenClassification from the checkpoint of a model trained on another task or with another architecture (e.g. initializing a BertForSequenceClassification model from a BertForPreTraining model).\n",
      "- This IS NOT expected if you are initializing BertForTokenClassification from the checkpoint of a model that you expect to be exactly identical (initializing a BertForSequenceClassification model from a BertForSequenceClassification model).\n",
      "Some weights of BertForTokenClassification were not initialized from the model checkpoint at bert-base-cased and are newly initialized: ['classifier.weight', 'classifier.bias']\n",
      "You should probably TRAIN this model on a down-stream task to be able to use it for predictions and inference.\n"
     ]
    }
   ],
   "source": [
    "from argparse import Namespace\n",
    "\n",
    "args = Namespace()\n",
    "\n",
    "setattr(args, \"model_name_or_path\", \"bert-base-cased\")\n",
    "setattr(args, \"model_name_or_path\", \"bert-base-cased\")\n",
    "\n",
    "m = PlLanguageModelForSequenceOrdering(args)"
   ]
  },
  {
   "cell_type": "code",
   "execution_count": null,
   "id": "d4cc7751-a84c-479c-b4a0-364fdbf264bd",
   "metadata": {},
   "outputs": [],
   "source": []
  }
 ],
 "metadata": {
  "kernelspec": {
   "display_name": "Python 3 (ipykernel)",
   "language": "python",
   "name": "python3"
  },
  "language_info": {
   "codemirror_mode": {
    "name": "ipython",
    "version": 3
   },
   "file_extension": ".py",
   "mimetype": "text/x-python",
   "name": "python",
   "nbconvert_exporter": "python",
   "pygments_lexer": "ipython3",
   "version": "3.9.6"
  }
 },
 "nbformat": 4,
 "nbformat_minor": 5
}
