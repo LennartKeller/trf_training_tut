{
 "cells": [
  {
   "cell_type": "code",
   "execution_count": 1,
   "id": "c5769e60-4917-4435-ad21-848377ba2489",
   "metadata": {},
   "outputs": [],
   "source": [
    "import torch\n",
    "from pytorch_lightning import LightningModule\n",
    "from torch import nn"
   ]
  },
  {
   "cell_type": "code",
   "execution_count": 100,
   "id": "9cbc65fe-bf0b-4aff-8f15-9884e373b9d9",
   "metadata": {},
   "outputs": [],
   "source": [
    "class DenseNet(LightningModule):\n",
    "    \n",
    "    def __init__(self, n_hidden_layers, hyper=\"B\"):\n",
    "        super().__init__()\n",
    "        self.n_hidden_layers = n_hidden_layers\n",
    "        hidden_layers = []\n",
    "        for _ in range(n_hidden_layers):\n",
    "            hidden_layers.extend([\n",
    "                nn.Linear(in_features=512, out_features=512),\n",
    "                nn.ReLU()\n",
    "            ])\n",
    "        self.net = nn.Sequential(\n",
    "            *hidden_layers,\n",
    "            nn.Linear(in_features=512, out_features=1)\n",
    "        )\n",
    "        self.save_hyperparameters()\n",
    "    def forward(self, inputs):\n",
    "        self.n_hidden_layers = 4\n",
    "        return self.net(inputs)\n",
    "    \n",
    "    def train_step(self, batch):\n",
    "        inputs, targets = batch\n",
    "        outputs = self(inputs).reshape(-1)\n",
    "        loss_fn = nn.BCEWithLogitsLoss()\n",
    "        loss = loss_fn(outputs, targets)\n",
    "        return loss"
   ]
  },
  {
   "cell_type": "code",
   "execution_count": 101,
   "id": "9f3a1e57-e25b-49af-9e91-b56f87ca72e9",
   "metadata": {},
   "outputs": [],
   "source": [
    "model = DenseNet(5)"
   ]
  },
  {
   "cell_type": "code",
   "execution_count": 102,
   "id": "80940e8e-54ea-4d69-ab53-387c59a8a247",
   "metadata": {},
   "outputs": [],
   "source": [
    "inputs = torch.rand(16, 512)\n",
    "targets = torch.randint(0, 2, (16, )).float() # binary targets\n",
    "batch = (inputs, targets)"
   ]
  },
  {
   "cell_type": "code",
   "execution_count": 103,
   "id": "11854613-93aa-400e-a6e1-95200b9353cd",
   "metadata": {},
   "outputs": [
    {
     "data": {
      "text/plain": [
       "tensor([[-0.0279],\n",
       "        [-0.0296],\n",
       "        [-0.0292],\n",
       "        [-0.0257],\n",
       "        [-0.0268],\n",
       "        [-0.0282],\n",
       "        [-0.0263],\n",
       "        [-0.0266],\n",
       "        [-0.0274],\n",
       "        [-0.0259],\n",
       "        [-0.0301],\n",
       "        [-0.0279],\n",
       "        [-0.0283],\n",
       "        [-0.0268],\n",
       "        [-0.0269],\n",
       "        [-0.0273]], grad_fn=<AddmmBackward>)"
      ]
     },
     "execution_count": 103,
     "metadata": {},
     "output_type": "execute_result"
    }
   ],
   "source": [
    "model(inputs)"
   ]
  },
  {
   "cell_type": "code",
   "execution_count": 104,
   "id": "330509f8-981e-4bd6-9ad5-e9bfedfde6c7",
   "metadata": {},
   "outputs": [
    {
     "data": {
      "text/plain": [
       "tensor(0.6864, grad_fn=<BinaryCrossEntropyWithLogitsBackward>)"
      ]
     },
     "execution_count": 104,
     "metadata": {},
     "output_type": "execute_result"
    }
   ],
   "source": [
    "model.train_step(batch)"
   ]
  },
  {
   "cell_type": "code",
   "execution_count": 105,
   "id": "ad54187f-7db8-4cd1-a9c1-3e230ea2022a",
   "metadata": {},
   "outputs": [
    {
     "data": {
      "text/plain": [
       "\"hyper\":           B\n",
       "\"n_hidden_layers\": 5"
      ]
     },
     "execution_count": 105,
     "metadata": {},
     "output_type": "execute_result"
    }
   ],
   "source": [
    "model.hparams"
   ]
  },
  {
   "cell_type": "code",
   "execution_count": null,
   "id": "4efa9cef-2c63-4cc9-8ac0-eb3fff4e9a5c",
   "metadata": {},
   "outputs": [],
   "source": []
  },
  {
   "cell_type": "code",
   "execution_count": null,
   "id": "de4f1e8c-526c-4d42-9f97-0f548624af29",
   "metadata": {},
   "outputs": [],
   "source": []
  },
  {
   "cell_type": "code",
   "execution_count": 156,
   "id": "cd368699-7b2c-4261-b28f-a87f591ebbe2",
   "metadata": {},
   "outputs": [
    {
     "ename": "RuntimeError",
     "evalue": "mat1 and mat2 shapes cannot be multiplied (16x512 and 8x512)",
     "output_type": "error",
     "traceback": [
      "\u001b[0;31m---------------------------------------------------------------------------\u001b[0m",
      "\u001b[0;31mRuntimeError\u001b[0m                              Traceback (most recent call last)",
      "\u001b[0;32m/tmp/ipykernel_25177/1803810730.py\u001b[0m in \u001b[0;36m<module>\u001b[0;34m\u001b[0m\n\u001b[1;32m     12\u001b[0m \u001b[0mdense\u001b[0m \u001b[0;34m=\u001b[0m \u001b[0mDenseLayer\u001b[0m\u001b[0;34m(\u001b[0m\u001b[0;36m512\u001b[0m\u001b[0;34m,\u001b[0m \u001b[0;36m16\u001b[0m\u001b[0;34m)\u001b[0m\u001b[0;34m\u001b[0m\u001b[0;34m\u001b[0m\u001b[0m\n\u001b[1;32m     13\u001b[0m \u001b[0minputs\u001b[0m \u001b[0;34m=\u001b[0m \u001b[0mtorch\u001b[0m\u001b[0;34m.\u001b[0m\u001b[0mrandn\u001b[0m\u001b[0;34m(\u001b[0m\u001b[0;36m8\u001b[0m\u001b[0;34m,\u001b[0m \u001b[0;36m512\u001b[0m\u001b[0;34m)\u001b[0m  \u001b[0;31m# Batchsize 8\u001b[0m\u001b[0;34m\u001b[0m\u001b[0;34m\u001b[0m\u001b[0m\n\u001b[0;32m---> 14\u001b[0;31m \u001b[0mouputs\u001b[0m \u001b[0;34m=\u001b[0m \u001b[0mdense\u001b[0m\u001b[0;34m(\u001b[0m\u001b[0minputs\u001b[0m\u001b[0;34m)\u001b[0m\u001b[0;34m\u001b[0m\u001b[0;34m\u001b[0m\u001b[0m\n\u001b[0m\u001b[1;32m     15\u001b[0m \u001b[0mprint\u001b[0m\u001b[0;34m(\u001b[0m\u001b[0moutputs\u001b[0m\u001b[0;34m.\u001b[0m\u001b[0msize\u001b[0m\u001b[0;34m(\u001b[0m\u001b[0;34m)\u001b[0m\u001b[0;34m)\u001b[0m\u001b[0;34m\u001b[0m\u001b[0;34m\u001b[0m\u001b[0m\n\u001b[1;32m     16\u001b[0m \u001b[0mprint\u001b[0m\u001b[0;34m(\u001b[0m\u001b[0mlist\u001b[0m\u001b[0;34m(\u001b[0m\u001b[0mdense\u001b[0m\u001b[0;34m.\u001b[0m\u001b[0mparameters\u001b[0m\u001b[0;34m(\u001b[0m\u001b[0;34m)\u001b[0m\u001b[0;34m)\u001b[0m\u001b[0;34m)\u001b[0m\u001b[0;34m\u001b[0m\u001b[0;34m\u001b[0m\u001b[0m\n",
      "\u001b[0;32m~/.conda/envs/huggingface_latest/lib/python3.9/site-packages/torch/nn/modules/module.py\u001b[0m in \u001b[0;36m_call_impl\u001b[0;34m(self, *input, **kwargs)\u001b[0m\n\u001b[1;32m   1049\u001b[0m         if not (self._backward_hooks or self._forward_hooks or self._forward_pre_hooks or _global_backward_hooks\n\u001b[1;32m   1050\u001b[0m                 or _global_forward_hooks or _global_forward_pre_hooks):\n\u001b[0;32m-> 1051\u001b[0;31m             \u001b[0;32mreturn\u001b[0m \u001b[0mforward_call\u001b[0m\u001b[0;34m(\u001b[0m\u001b[0;34m*\u001b[0m\u001b[0minput\u001b[0m\u001b[0;34m,\u001b[0m \u001b[0;34m**\u001b[0m\u001b[0mkwargs\u001b[0m\u001b[0;34m)\u001b[0m\u001b[0;34m\u001b[0m\u001b[0;34m\u001b[0m\u001b[0m\n\u001b[0m\u001b[1;32m   1052\u001b[0m         \u001b[0;31m# Do not call functions when jit is used\u001b[0m\u001b[0;34m\u001b[0m\u001b[0;34m\u001b[0m\u001b[0;34m\u001b[0m\u001b[0m\n\u001b[1;32m   1053\u001b[0m         \u001b[0mfull_backward_hooks\u001b[0m\u001b[0;34m,\u001b[0m \u001b[0mnon_full_backward_hooks\u001b[0m \u001b[0;34m=\u001b[0m \u001b[0;34m[\u001b[0m\u001b[0;34m]\u001b[0m\u001b[0;34m,\u001b[0m \u001b[0;34m[\u001b[0m\u001b[0;34m]\u001b[0m\u001b[0;34m\u001b[0m\u001b[0;34m\u001b[0m\u001b[0m\n",
      "\u001b[0;32m/tmp/ipykernel_25177/1803810730.py\u001b[0m in \u001b[0;36mforward\u001b[0;34m(self, inputs)\u001b[0m\n\u001b[1;32m      8\u001b[0m         \u001b[0mself\u001b[0m\u001b[0;34m.\u001b[0m\u001b[0mweights\u001b[0m \u001b[0;34m=\u001b[0m \u001b[0mnn\u001b[0m\u001b[0;34m.\u001b[0m\u001b[0mParameter\u001b[0m\u001b[0;34m(\u001b[0m\u001b[0mtorch\u001b[0m\u001b[0;34m.\u001b[0m\u001b[0mrandn\u001b[0m\u001b[0;34m(\u001b[0m\u001b[0min_shape\u001b[0m\u001b[0;34m,\u001b[0m \u001b[0mout_shape\u001b[0m\u001b[0;34m)\u001b[0m\u001b[0;34m,\u001b[0m \u001b[0mrequires_grad\u001b[0m\u001b[0;34m=\u001b[0m\u001b[0;32mTrue\u001b[0m\u001b[0;34m)\u001b[0m\u001b[0;34m\u001b[0m\u001b[0;34m\u001b[0m\u001b[0m\n\u001b[1;32m      9\u001b[0m     \u001b[0;32mdef\u001b[0m \u001b[0mforward\u001b[0m\u001b[0;34m(\u001b[0m\u001b[0mself\u001b[0m\u001b[0;34m,\u001b[0m \u001b[0minputs\u001b[0m\u001b[0;34m)\u001b[0m\u001b[0;34m:\u001b[0m\u001b[0;34m\u001b[0m\u001b[0;34m\u001b[0m\u001b[0m\n\u001b[0;32m---> 10\u001b[0;31m         \u001b[0;32mreturn\u001b[0m \u001b[0mself\u001b[0m\u001b[0;34m.\u001b[0m\u001b[0mweights\u001b[0m\u001b[0;34m.\u001b[0m\u001b[0mT\u001b[0m\u001b[0;34m.\u001b[0m\u001b[0munsqueeze\u001b[0m\u001b[0;34m(\u001b[0m\u001b[0;36m0\u001b[0m\u001b[0;34m)\u001b[0m \u001b[0;34m@\u001b[0m \u001b[0minputs\u001b[0m\u001b[0;34m\u001b[0m\u001b[0;34m\u001b[0m\u001b[0m\n\u001b[0m\u001b[1;32m     11\u001b[0m \u001b[0;34m\u001b[0m\u001b[0m\n\u001b[1;32m     12\u001b[0m \u001b[0mdense\u001b[0m \u001b[0;34m=\u001b[0m \u001b[0mDenseLayer\u001b[0m\u001b[0;34m(\u001b[0m\u001b[0;36m512\u001b[0m\u001b[0;34m,\u001b[0m \u001b[0;36m16\u001b[0m\u001b[0;34m)\u001b[0m\u001b[0;34m\u001b[0m\u001b[0;34m\u001b[0m\u001b[0m\n",
      "\u001b[0;31mRuntimeError\u001b[0m: mat1 and mat2 shapes cannot be multiplied (16x512 and 8x512)"
     ]
    }
   ],
   "source": [
    "import torch \n",
    "from torch import nn\n",
    "\n",
    "class DenseLayer(nn.Module):\n",
    "    \"\"\"Simple fully connected dense layer.\"\"\"\n",
    "    def __init__(self, in_shape, out_shape):\n",
    "        super().__init__()\n",
    "        self.weights = nn.Parameter(torch.randn(in_shape, out_shape), requires_grad=True)\n",
    "    def forward(self, inputs):\n",
    "        return self.weights.T.unsqueeze(0) @ inputs\n",
    "\n",
    "dense = DenseLayer(512, 16)\n",
    "inputs = torch.randn(8, 512)  # Batchsize 8\n",
    "ouputs = dense(inputs)\n",
    "print(outputs.size())\n",
    "print(list(dense.parameters()))"
   ]
  },
  {
   "cell_type": "code",
   "execution_count": 169,
   "id": "8918c42d-cd40-421c-86e9-861332da504e",
   "metadata": {},
   "outputs": [
    {
     "data": {
      "text/plain": [
       "torch.Size([8, 512, 16])"
      ]
     },
     "execution_count": 169,
     "metadata": {},
     "output_type": "execute_result"
    }
   ],
   "source": [
    "trans = torch.randn(512, 16)\n",
    "input = torch.randn(8, 512)\n",
    "out = input.unsqueeze(2) * trans\n",
    "out.shape"
   ]
  },
  {
   "cell_type": "code",
   "execution_count": 162,
   "id": "9a6f8dc8-a327-46ea-94f0-e2cc2e31fdfc",
   "metadata": {},
   "outputs": [
    {
     "data": {
      "text/plain": [
       "torch.Size([8, 1, 512])"
      ]
     },
     "execution_count": 162,
     "metadata": {},
     "output_type": "execute_result"
    }
   ],
   "source": [
    "input.unsqueeze(1).shape"
   ]
  },
  {
   "cell_type": "code",
   "execution_count": 145,
   "id": "8915e646-503b-4529-8214-c45bbbada8d5",
   "metadata": {},
   "outputs": [
    {
     "data": {
      "text/plain": [
       "[Parameter containing:\n",
       " tensor([[ 0.3942,  1.0553,  0.5875,  ...,  0.1208, -0.1897, -0.3418],\n",
       "         [-1.3035,  0.5273,  0.1739,  ..., -1.3229,  0.5408, -0.2280],\n",
       "         [ 0.1097,  0.2074, -1.5073,  ..., -0.8526, -2.5680, -1.6476],\n",
       "         ...,\n",
       "         [-0.5353,  2.3021,  0.3930,  ...,  0.8187, -1.1952, -0.9587],\n",
       "         [ 0.7563,  0.7897,  1.9017,  ..., -1.0961,  2.1129, -0.1100],\n",
       "         [-1.4382, -1.6479, -1.8615,  ...,  0.9697,  0.0253,  1.4471]],\n",
       "        requires_grad=True)]"
      ]
     },
     "execution_count": 145,
     "metadata": {},
     "output_type": "execute_result"
    }
   ],
   "source": [
    "list(dense.parameters())"
   ]
  },
  {
   "cell_type": "code",
   "execution_count": null,
   "id": "bb9ca769-5ad0-4f9e-abca-77e01fb6bae4",
   "metadata": {},
   "outputs": [],
   "source": []
  }
 ],
 "metadata": {
  "kernelspec": {
   "display_name": "Python 3 (ipykernel)",
   "language": "python",
   "name": "python3"
  },
  "language_info": {
   "codemirror_mode": {
    "name": "ipython",
    "version": 3
   },
   "file_extension": ".py",
   "mimetype": "text/x-python",
   "name": "python",
   "nbconvert_exporter": "python",
   "pygments_lexer": "ipython3",
   "version": "3.9.6"
  }
 },
 "nbformat": 4,
 "nbformat_minor": 5
}
