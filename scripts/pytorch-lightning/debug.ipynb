{
 "cells": [
  {
   "cell_type": "code",
   "execution_count": 1,
   "metadata": {},
   "outputs": [
    {
     "name": "stderr",
     "output_type": "stream",
     "text": [
      "Some weights of the model checkpoint at bert-large-cased were not used when initializing BertForTokenClassification: ['cls.predictions.transform.LayerNorm.bias', 'cls.predictions.bias', 'cls.predictions.decoder.weight', 'cls.seq_relationship.bias', 'cls.predictions.transform.LayerNorm.weight', 'cls.predictions.transform.dense.weight', 'cls.seq_relationship.weight', 'cls.predictions.transform.dense.bias']\n",
      "- This IS expected if you are initializing BertForTokenClassification from the checkpoint of a model trained on another task or with another architecture (e.g. initializing a BertForSequenceClassification model from a BertForPreTraining model).\n",
      "- This IS NOT expected if you are initializing BertForTokenClassification from the checkpoint of a model that you expect to be exactly identical (initializing a BertForSequenceClassification model from a BertForSequenceClassification model).\n",
      "Some weights of BertForTokenClassification were not initialized from the model checkpoint at bert-large-cased and are newly initialized: ['classifier.bias', 'classifier.weight']\n",
      "You should probably TRAIN this model on a down-stream task to be able to use it for predictions and inference.\n"
     ]
    }
   ],
   "source": [
    "from pl_modules import (\n",
    "    HuggingfaceDatasetWrapper,\n",
    "    PlLanguageModelForSequenceOrdering,\n",
    "    so_data_collator,\n",
    ")\n",
    "from transformers import AutoModelForSequenceClassification, AutoTokenizer\n",
    "from transformers import AutoModelForTokenClassification\n",
    "from datasets import load_from_disk\n",
    "\n",
    "tokenizer = AutoTokenizer.from_pretrained(\"bert-base-cased\")\n",
    "model = PlLanguageModelForSequenceOrdering.load_from_checkpoint(\n",
    "    \"/mnt/data/users/keller/Uni/trf_training_tut/scripts/pytorch-lightning/logs/default/version_0/checkpoints/epoch=2-step=63131.ckpt\"\n",
    ")"
   ]
  },
  {
   "cell_type": "code",
   "execution_count": 2,
   "metadata": {},
   "outputs": [],
   "source": [
    "data = load_from_disk(\"../data/rocstories\")\n",
    "\n",
    "# Downsampling for debugging...\n",
    "# data = data.filter(lambda _, index: index < 100, with_indices=True)\n",
    "\n",
    "dataset = HuggingfaceDatasetWrapper(\n",
    "    data,\n",
    "    text_column=\"text\",\n",
    "    target_column=\"so_targets\",\n",
    "    tokenizer=tokenizer,\n",
    "    mapping_funcs=[],\n",
    "    collate_fn=so_data_collator,\n",
    ")\n",
    "dataset.prepare_data()"
   ]
  },
  {
   "cell_type": "code",
   "execution_count": 6,
   "metadata": {},
   "outputs": [
    {
     "data": {
      "application/vnd.jupyter.widget-view+json": {
       "model_id": "b57a495833a04a2d8126784adf6308d1",
       "version_major": 2,
       "version_minor": 0
      },
      "text/plain": [
       "  0%|          | 0/43 [00:00<?, ?ba/s]"
      ]
     },
     "metadata": {},
     "output_type": "display_data"
    },
    {
     "data": {
      "application/vnd.jupyter.widget-view+json": {
       "model_id": "1e9035a4b6e04826a40f8c1181557c63",
       "version_major": 2,
       "version_minor": 0
      },
      "text/plain": [
       "  0%|          | 0/8 [00:00<?, ?ba/s]"
      ]
     },
     "metadata": {},
     "output_type": "display_data"
    },
    {
     "data": {
      "application/vnd.jupyter.widget-view+json": {
       "model_id": "2d34cb8a9d724414b140411810a8962e",
       "version_major": 2,
       "version_minor": 0
      },
      "text/plain": [
       "  0%|          | 0/4 [00:00<?, ?ba/s]"
      ]
     },
     "metadata": {},
     "output_type": "display_data"
    }
   ],
   "source": [
    "loader = dataset.train_dataloader()"
   ]
  },
  {
   "cell_type": "code",
   "execution_count": 7,
   "metadata": {},
   "outputs": [],
   "source": [
    "batch = next(iter(loader))"
   ]
  },
  {
   "cell_type": "code",
   "execution_count": 11,
   "metadata": {},
   "outputs": [],
   "source": [
    "outputs = model.predict_step(batch, 0)"
   ]
  },
  {
   "cell_type": "code",
   "execution_count": 14,
   "metadata": {},
   "outputs": [
    {
     "data": {
      "text/plain": [
       "tensor([[[2.1106],\n",
       "         [2.1106],\n",
       "         [2.1106],\n",
       "         ...,\n",
       "         [2.1106],\n",
       "         [2.1106],\n",
       "         [2.1106]],\n",
       "\n",
       "        [[2.1106],\n",
       "         [2.1106],\n",
       "         [2.1106],\n",
       "         ...,\n",
       "         [2.1106],\n",
       "         [2.1106],\n",
       "         [2.1106]],\n",
       "\n",
       "        [[2.1106],\n",
       "         [2.1106],\n",
       "         [2.1106],\n",
       "         ...,\n",
       "         [2.1106],\n",
       "         [2.1106],\n",
       "         [2.1106]],\n",
       "\n",
       "        ...,\n",
       "\n",
       "        [[2.1106],\n",
       "         [2.1106],\n",
       "         [2.1106],\n",
       "         ...,\n",
       "         [2.1106],\n",
       "         [2.1106],\n",
       "         [2.1106]],\n",
       "\n",
       "        [[2.1106],\n",
       "         [2.1106],\n",
       "         [2.1106],\n",
       "         ...,\n",
       "         [2.1106],\n",
       "         [2.1106],\n",
       "         [2.1106]],\n",
       "\n",
       "        [[2.1106],\n",
       "         [2.1106],\n",
       "         [2.1106],\n",
       "         ...,\n",
       "         [2.1106],\n",
       "         [2.1106],\n",
       "         [2.1106]]], grad_fn=<AddBackward0>)"
      ]
     },
     "execution_count": 14,
     "metadata": {},
     "output_type": "execute_result"
    }
   ],
   "source": [
    "outputs[\"logits\"]"
   ]
  },
  {
   "cell_type": "code",
   "execution_count": 15,
   "metadata": {},
   "outputs": [],
   "source": [
    "t = AutoTokenizer.from_pretrained(\"xlm-roberta-base\")"
   ]
  },
  {
   "cell_type": "code",
   "execution_count": 17,
   "metadata": {},
   "outputs": [
    {
     "data": {
      "text/plain": [
       "0"
      ]
     },
     "execution_count": 17,
     "metadata": {},
     "output_type": "execute_result"
    }
   ],
   "source": [
    "t.cls_token_id"
   ]
  },
  {
   "cell_type": "code",
   "execution_count": 20,
   "metadata": {},
   "outputs": [
    {
     "data": {
      "text/plain": [
       "2"
      ]
     },
     "execution_count": 20,
     "metadata": {},
     "output_type": "execute_result"
    }
   ],
   "source": [
    "t.sep_token_id"
   ]
  },
  {
   "cell_type": "code",
   "execution_count": null,
   "metadata": {},
   "outputs": [],
   "source": []
  }
 ],
 "metadata": {
  "interpreter": {
   "hash": "8177ced577e5e7ca1f23d2becaf3e3ba70a92964f79ac2de86d55d71bd01756a"
  },
  "kernelspec": {
   "display_name": "Python 3 (ipykernel)",
   "language": "python",
   "name": "python3"
  },
  "language_info": {
   "codemirror_mode": {
    "name": "ipython",
    "version": 3
   },
   "file_extension": ".py",
   "mimetype": "text/x-python",
   "name": "python",
   "nbconvert_exporter": "python",
   "pygments_lexer": "ipython3",
   "version": "3.9.6"
  }
 },
 "nbformat": 4,
 "nbformat_minor": 4
}
