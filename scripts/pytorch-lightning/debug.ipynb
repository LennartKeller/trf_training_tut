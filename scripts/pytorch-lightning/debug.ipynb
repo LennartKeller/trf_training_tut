{
 "cells": [
  {
   "cell_type": "code",
   "execution_count": 6,
   "metadata": {},
   "outputs": [
    {
     "ename": "ModuleNotFoundError",
     "evalue": "No module named 'cpickle'",
     "output_type": "error",
     "traceback": [
      "\u001b[0;31m---------------------------------------------------------------------------\u001b[0m",
      "\u001b[0;31mModuleNotFoundError\u001b[0m                       Traceback (most recent call last)",
      "\u001b[0;32m/tmp/ipykernel_30392/2533575283.py\u001b[0m in \u001b[0;36m<module>\u001b[0;34m\u001b[0m\n\u001b[0;32m----> 1\u001b[0;31m \u001b[0;32mimport\u001b[0m \u001b[0mcpickle\u001b[0m\u001b[0;34m\u001b[0m\u001b[0;34m\u001b[0m\u001b[0m\n\u001b[0m\u001b[1;32m      2\u001b[0m \u001b[0;32mfrom\u001b[0m \u001b[0mpathlib\u001b[0m \u001b[0;32mimport\u001b[0m \u001b[0mPath\u001b[0m\u001b[0;34m\u001b[0m\u001b[0;34m\u001b[0m\u001b[0m\n\u001b[1;32m      3\u001b[0m \u001b[0;32mimport\u001b[0m \u001b[0mtorch\u001b[0m\u001b[0;34m\u001b[0m\u001b[0;34m\u001b[0m\u001b[0m\n\u001b[1;32m      4\u001b[0m \u001b[0;34m\u001b[0m\u001b[0m\n\u001b[1;32m      5\u001b[0m \u001b[0mcp_path\u001b[0m \u001b[0;34m=\u001b[0m \u001b[0mPath\u001b[0m\u001b[0;34m(\u001b[0m\u001b[0;34m\"/mnt/data/users/keller/Uni/trf_training_tut/scripts/pytorch-lightning/lightning_runs/rocstories/default/0/checkpoints/epoch=2-step=6867.ckpt\"\u001b[0m\u001b[0;34m)\u001b[0m\u001b[0;34m\u001b[0m\u001b[0;34m\u001b[0m\u001b[0m\n",
      "\u001b[0;31mModuleNotFoundError\u001b[0m: No module named 'cpickle'"
     ]
    }
   ],
   "source": [
    "import cpickle\n",
    "from pathlib import Path\n",
    "import torch\n",
    "\n",
    "cp_path = Path(\"/mnt/data/users/keller/Uni/trf_training_tut/scripts/pytorch-lightning/lightning_runs/rocstories/default/0/checkpoints/epoch=2-step=6867.ckpt\")"
   ]
  },
  {
   "cell_type": "code",
   "execution_count": 7,
   "metadata": {},
   "outputs": [],
   "source": [
    "with cp_path.open(\"rb\") as f:\n",
    "    obj = torch.load(f)"
   ]
  },
  {
   "cell_type": "code",
   "execution_count": 12,
   "metadata": {},
   "outputs": [
    {
     "data": {
      "text/plain": [
       "dict_keys(['epoch', 'global_step', 'pytorch-lightning_version', 'state_dict', 'callbacks', 'optimizer_states', 'lr_schedulers', 'hparams_name', 'hyper_parameters'])"
      ]
     },
     "execution_count": 12,
     "metadata": {},
     "output_type": "execute_result"
    }
   ],
   "source": [
    "obj.keys()"
   ]
  },
  {
   "cell_type": "code",
   "execution_count": 14,
   "metadata": {},
   "outputs": [
    {
     "data": {
      "text/plain": [
       "{'seed': 42,\n",
       " 'train_batch_size': 16,\n",
       " 'val_batch_size': 32,\n",
       " 'logger': True,\n",
       " 'checkpoint_callback': True,\n",
       " 'default_root_dir': 'lightning_runs/rocstories',\n",
       " 'gradient_clip_val': 1.0,\n",
       " 'gradient_clip_algorithm': 'norm',\n",
       " 'process_position': 0,\n",
       " 'num_nodes': 1,\n",
       " 'num_processes': 10,\n",
       " 'devices': None,\n",
       " 'gpus': 1,\n",
       " 'auto_select_gpus': False,\n",
       " 'tpu_cores': None,\n",
       " 'ipus': None,\n",
       " 'log_gpu_memory': None,\n",
       " 'progress_bar_refresh_rate': None,\n",
       " 'overfit_batches': 0.0,\n",
       " 'track_grad_norm': -1,\n",
       " 'check_val_every_n_epoch': 1,\n",
       " 'fast_dev_run': False,\n",
       " 'accumulate_grad_batches': 1,\n",
       " 'max_epochs': 3,\n",
       " 'min_epochs': None,\n",
       " 'max_steps': None,\n",
       " 'min_steps': None,\n",
       " 'max_time': None,\n",
       " 'limit_train_batches': 1.0,\n",
       " 'limit_val_batches': 1.0,\n",
       " 'limit_test_batches': 1.0,\n",
       " 'limit_predict_batches': 1.0,\n",
       " 'val_check_interval': 200,\n",
       " 'flush_logs_every_n_steps': 100,\n",
       " 'log_every_n_steps': 50,\n",
       " 'accelerator': 'ddp_spawn',\n",
       " 'sync_batchnorm': False,\n",
       " 'precision': 32,\n",
       " 'weights_summary': 'top',\n",
       " 'weights_save_path': None,\n",
       " 'num_sanity_val_steps': 2,\n",
       " 'truncated_bptt_steps': None,\n",
       " 'resume_from_checkpoint': None,\n",
       " 'profiler': None,\n",
       " 'benchmark': False,\n",
       " 'deterministic': True,\n",
       " 'reload_dataloaders_every_n_epochs': 0,\n",
       " 'reload_dataloaders_every_epoch': False,\n",
       " 'auto_lr_find': False,\n",
       " 'replace_sampler_ddp': True,\n",
       " 'terminate_on_nan': False,\n",
       " 'auto_scale_batch_size': False,\n",
       " 'prepare_data_per_node': True,\n",
       " 'plugins': None,\n",
       " 'amp_backend': 'native',\n",
       " 'amp_level': 'O2',\n",
       " 'distributed_backend': None,\n",
       " 'move_metrics_to_cpu': False,\n",
       " 'multiple_trainloader_mode': 'max_size_cycle',\n",
       " 'stochastic_weight_avg': False,\n",
       " 'model_name_or_path': 'distilbert-base-cased',\n",
       " 'lr': 3e-05,\n",
       " 'target_token_id': 101}"
      ]
     },
     "execution_count": 14,
     "metadata": {},
     "output_type": "execute_result"
    }
   ],
   "source": [
    "obj[\"hyper_parameters\"]"
   ]
  },
  {
   "cell_type": "code",
   "execution_count": null,
   "metadata": {},
   "outputs": [],
   "source": []
  }
 ],
 "metadata": {
  "interpreter": {
   "hash": "8177ced577e5e7ca1f23d2becaf3e3ba70a92964f79ac2de86d55d71bd01756a"
  },
  "kernelspec": {
   "display_name": "Python 3 (ipykernel)",
   "language": "python",
   "name": "python3"
  },
  "language_info": {
   "codemirror_mode": {
    "name": "ipython",
    "version": 3
   },
   "file_extension": ".py",
   "mimetype": "text/x-python",
   "name": "python",
   "nbconvert_exporter": "python",
   "pygments_lexer": "ipython3",
   "version": "3.9.6"
  }
 },
 "nbformat": 4,
 "nbformat_minor": 4
}
